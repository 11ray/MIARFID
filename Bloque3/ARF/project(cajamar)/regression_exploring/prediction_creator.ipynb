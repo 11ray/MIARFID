{
 "cells": [
  {
   "cell_type": "code",
   "execution_count": 1,
   "metadata": {},
   "outputs": [],
   "source": [
    "import pandas as pd\n",
    "import numpy as np\n",
    "from sklearn.metrics import median_absolute_error\n",
    "from sklearn.model_selection import KFold\n",
    "from sklearn.ensemble import RandomForestRegressor\n",
    "from sklearn.ensemble import GradientBoostingRegressor\n",
    "from sklearn import svm\n",
    "from matplotlib import pyplot as plt\n",
    "from tqdm  import tqdm\n",
    "from joblib import dump, load"
   ]
  },
  {
   "cell_type": "code",
   "execution_count": 4,
   "metadata": {},
   "outputs": [
    {
     "name": "stdout",
     "output_type": "stream",
     "text": [
      "        HY_id     TM_Est\n",
      "0     6028522  67.089381\n",
      "1     6028548  64.582580\n",
      "2     6028571  66.616824\n",
      "3     6028627  54.405563\n",
      "4     6028629  68.003419\n",
      "5     6028637  59.871269\n",
      "6     6028942  52.827045\n",
      "7     6028999  41.314021\n",
      "8     6029035  67.290682\n",
      "9     6029036  65.184942\n",
      "10    6029037  48.429561\n",
      "11    6029052  65.042462\n",
      "12    6029065  56.634438\n",
      "13    6029171  77.892858\n",
      "14    6029195  58.295469\n",
      "15    6029210  71.782210\n",
      "16    6029241  62.739138\n",
      "17    6029247  20.496265\n",
      "18    6029313  29.443673\n",
      "19    6029317  41.330740\n",
      "20    6029323  18.599971\n",
      "21    6029385  45.747659\n",
      "22    6029421  46.440598\n",
      "23    6029433  17.617310\n",
      "24    6029648  60.126631\n",
      "25    6029670  53.606955\n",
      "26    6029839  51.769803\n",
      "27    6029872  63.309203\n",
      "28    6029884  54.539389\n",
      "29    6029909  13.640382\n",
      "...       ...        ...\n",
      "1074  6966151  44.365057\n",
      "1075  6965288  52.019836\n",
      "1076  6965301  15.818348\n",
      "1077  6965615  23.662702\n",
      "1078  6965649  57.221047\n",
      "1079  6967221  26.211328\n",
      "1080  6969489  47.879835\n",
      "1081  6972051  49.477600\n",
      "1082  6971694  84.700788\n",
      "1083  6971695  43.523267\n",
      "1084  6972055   3.344791\n",
      "1085  6972873  66.429123\n",
      "1086  6971690  56.978252\n",
      "1087  6969463  24.921412\n",
      "1088  6967226  53.106953\n",
      "1089  6973525  36.652232\n",
      "1090  6973189  75.435821\n",
      "1091  6976434  20.203747\n",
      "1092  6976464  76.776970\n",
      "1093  6976468  56.012980\n",
      "1094  6976741  30.780279\n",
      "1095  7006426  59.352526\n",
      "1096  7006455  19.428372\n",
      "1097  6973538  20.651654\n",
      "1098  6976472  59.583340\n",
      "1099  7008542  50.049594\n",
      "1100  7009969  21.212322\n",
      "1101  7006642  47.084778\n",
      "1102  7006630  57.614363\n",
      "1103  7007777  45.526982\n",
      "\n",
      "[1104 rows x 2 columns]\n"
     ]
    }
   ],
   "source": [
    "x = np.load('estimar_matrix.npy')\n",
    "ids = np.load('estimar_ids.npy')\n",
    "est = load('model(16.44).joblib') \n",
    "predictions = est.predict(x)\n",
    "\n",
    "df = pd.DataFrame()\n",
    "\n",
    "df['HY_id'] = np.array(ids.ravel())\n",
    "df['TM_Est'] = np.array(predictions)\n",
    "print(df)\n",
    "df.to_csv('MLAMLML_UH2019.txt', sep='|', index = False)"
   ]
  },
  {
   "cell_type": "code",
   "execution_count": null,
   "metadata": {},
   "outputs": [],
   "source": []
  }
 ],
 "metadata": {
  "kernelspec": {
   "display_name": "tensorflow",
   "language": "python",
   "name": "tensorflow"
  },
  "language_info": {
   "codemirror_mode": {
    "name": "ipython",
    "version": 3
   },
   "file_extension": ".py",
   "mimetype": "text/x-python",
   "name": "python",
   "nbconvert_exporter": "python",
   "pygments_lexer": "ipython3",
   "version": "3.6.4"
  }
 },
 "nbformat": 4,
 "nbformat_minor": 2
}
