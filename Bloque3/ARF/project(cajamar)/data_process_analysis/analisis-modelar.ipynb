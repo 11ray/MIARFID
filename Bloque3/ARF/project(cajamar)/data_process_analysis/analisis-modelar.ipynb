{
 "cells": [
  {
   "cell_type": "code",
   "execution_count": 1,
   "metadata": {},
   "outputs": [],
   "source": [
    "import pandas as pd\n",
    "csv_data_path = \"data/Datasets_Reto_Modelling_UH2019/\"\n",
    "modelar_data_path = csv_data_path + \"Modelar_UH2019.txt\"\n",
    "estimar_data_path = csv_data_path + \"Estimar_UH2019.txt\"\n",
    "imagenes_data_path =  \"data/imagenes_inmuebles_haya\""
   ]
  },
  {
   "cell_type": "code",
   "execution_count": 2,
   "metadata": {},
   "outputs": [
    {
     "name": "stdout",
     "output_type": "stream",
     "text": [
      "Filas: 9958\n",
      "Columnas: 53\n"
     ]
    }
   ],
   "source": [
    "df_modelar = pd.read_csv(modelar_data_path, delimiter=\"|\", dtype={'HY_cod_postal': object})\n",
    "df_estimar = pd.read_csv(estimar_data_path, delimiter=\"|\", dtype={'HY_cod_postal': object})\n",
    "df_modelar_filas, df_modelar_columnas = df_modelar.shape\n",
    "print(\"Filas:\", df_modelar_filas)\n",
    "print(\"Columnas:\", df_modelar_columnas)"
   ]
  },
  {
   "cell_type": "code",
   "execution_count": 3,
   "metadata": {},
   "outputs": [
    {
     "name": "stdout",
     "output_type": "stream",
     "text": [
      "<class 'pandas.core.frame.DataFrame'>\n",
      "RangeIndex: 9958 entries, 0 to 9957\n",
      "Data columns (total 53 columns):\n",
      "HY_id                              9958 non-null int64\n",
      "HY_cod_postal                      9958 non-null object\n",
      "HY_provincia                       9916 non-null object\n",
      "HY_descripcion                     6016 non-null object\n",
      "HY_distribucion                    3213 non-null object\n",
      "HY_tipo                            9958 non-null object\n",
      "HY_antiguedad                      4474 non-null float64\n",
      "HY_metros_utiles                   7072 non-null float64\n",
      "HY_metros_totales                  9924 non-null float64\n",
      "HY_num_banos                       9958 non-null int64\n",
      "HY_cert_energ                      1658 non-null object\n",
      "HY_num_terrazas                    9958 non-null int64\n",
      "HY_ascensor                        9958 non-null int64\n",
      "HY_trastero                        9958 non-null int64\n",
      "HY_num_garajes                     9958 non-null int64\n",
      "HY_precio                          9958 non-null float64\n",
      "HY_precio_anterior                 6800 non-null float64\n",
      "IDEA_area                          7327 non-null float64\n",
      "IDEA_poblacion                     7323 non-null float64\n",
      "IDEA_densidad                      7323 non-null float64\n",
      "IDEA_pc_1960                       7248 non-null float64\n",
      "IDEA_pc_1960_69                    7248 non-null float64\n",
      "IDEA_pc_1970_79                    7248 non-null float64\n",
      "IDEA_pc_1980_89                    7248 non-null float64\n",
      "IDEA_pc_1990_99                    7248 non-null float64\n",
      "IDEA_pc_2000_10                    7248 non-null float64\n",
      "IDEA_pc_comercio                   7248 non-null float64\n",
      "IDEA_pc_industria                  7248 non-null float64\n",
      "IDEA_pc_oficina                    7248 non-null float64\n",
      "IDEA_pc_otros                      7248 non-null float64\n",
      "IDEA_pc_residencial                7248 non-null float64\n",
      "IDEA_pc_trast_parking              7248 non-null float64\n",
      "IDEA_ind_tienda                    7241 non-null float64\n",
      "IDEA_ind_turismo                   7241 non-null float64\n",
      "IDEA_ind_alimentacion              7241 non-null float64\n",
      "IDEA_ind_riqueza                   7327 non-null float64\n",
      "IDEA_rent_alquiler                 6896 non-null float64\n",
      "IDEA_ind_elasticidad               4852 non-null float64\n",
      "IDEA_ind_liquidez                  4852 non-null float64\n",
      "IDEA_unitprice_sale_residential    7323 non-null float64\n",
      "IDEA_price_sale_residential        7323 non-null float64\n",
      "IDEA_stock_sale_residential        7323 non-null float64\n",
      "IDEA_demand_sale_residential       7323 non-null float64\n",
      "IDEA_unitprice_rent_residential    6960 non-null float64\n",
      "IDEA_price_rent_residential        6960 non-null float64\n",
      "IDEA_stock_rent_residential        6960 non-null float64\n",
      "IDEA_demand_rent_residential       7323 non-null float64\n",
      "GA_page_views                      9958 non-null int64\n",
      "GA_mean_bounce                     9958 non-null float64\n",
      "GA_exit_rate                       9958 non-null float64\n",
      "GA_quincena_ini                    9958 non-null int64\n",
      "GA_quincena_ult                    9958 non-null int64\n",
      "TARGET                             9958 non-null float64\n",
      "dtypes: float64(38), int64(9), object(6)\n",
      "memory usage: 4.0+ MB\n"
     ]
    }
   ],
   "source": [
    "df_modelar.info()"
   ]
  },
  {
   "cell_type": "code",
   "execution_count": 4,
   "metadata": {},
   "outputs": [
    {
     "data": {
      "text/html": [
       "<div>\n",
       "<style scoped>\n",
       "    .dataframe tbody tr th:only-of-type {\n",
       "        vertical-align: middle;\n",
       "    }\n",
       "\n",
       "    .dataframe tbody tr th {\n",
       "        vertical-align: top;\n",
       "    }\n",
       "\n",
       "    .dataframe thead th {\n",
       "        text-align: right;\n",
       "    }\n",
       "</style>\n",
       "<table border=\"1\" class=\"dataframe\">\n",
       "  <thead>\n",
       "    <tr style=\"text-align: right;\">\n",
       "      <th></th>\n",
       "      <th>HY_id</th>\n",
       "      <th>HY_antiguedad</th>\n",
       "      <th>HY_metros_utiles</th>\n",
       "      <th>HY_metros_totales</th>\n",
       "      <th>HY_num_banos</th>\n",
       "      <th>HY_num_terrazas</th>\n",
       "      <th>HY_ascensor</th>\n",
       "      <th>HY_trastero</th>\n",
       "      <th>HY_num_garajes</th>\n",
       "      <th>HY_precio</th>\n",
       "      <th>...</th>\n",
       "      <th>IDEA_unitprice_rent_residential</th>\n",
       "      <th>IDEA_price_rent_residential</th>\n",
       "      <th>IDEA_stock_rent_residential</th>\n",
       "      <th>IDEA_demand_rent_residential</th>\n",
       "      <th>GA_page_views</th>\n",
       "      <th>GA_mean_bounce</th>\n",
       "      <th>GA_exit_rate</th>\n",
       "      <th>GA_quincena_ini</th>\n",
       "      <th>GA_quincena_ult</th>\n",
       "      <th>TARGET</th>\n",
       "    </tr>\n",
       "  </thead>\n",
       "  <tbody>\n",
       "    <tr>\n",
       "      <th>count</th>\n",
       "      <td>9.958000e+03</td>\n",
       "      <td>4474.000000</td>\n",
       "      <td>7.072000e+03</td>\n",
       "      <td>9.924000e+03</td>\n",
       "      <td>9958.000000</td>\n",
       "      <td>9958.000000</td>\n",
       "      <td>9958.000000</td>\n",
       "      <td>9958.000000</td>\n",
       "      <td>9958.000000</td>\n",
       "      <td>9.958000e+03</td>\n",
       "      <td>...</td>\n",
       "      <td>6960.000000</td>\n",
       "      <td>6960.000000</td>\n",
       "      <td>6960.000000</td>\n",
       "      <td>7323.00000</td>\n",
       "      <td>9958.000000</td>\n",
       "      <td>9958.000000</td>\n",
       "      <td>9958.000000</td>\n",
       "      <td>9958.000000</td>\n",
       "      <td>9958.000000</td>\n",
       "      <td>9958.000000</td>\n",
       "    </tr>\n",
       "    <tr>\n",
       "      <th>mean</th>\n",
       "      <td>6.272842e+06</td>\n",
       "      <td>1997.306214</td>\n",
       "      <td>4.714240e+02</td>\n",
       "      <td>5.433917e+02</td>\n",
       "      <td>0.819642</td>\n",
       "      <td>0.019984</td>\n",
       "      <td>0.270436</td>\n",
       "      <td>0.062161</td>\n",
       "      <td>0.097007</td>\n",
       "      <td>7.672430e+04</td>\n",
       "      <td>...</td>\n",
       "      <td>5.164539</td>\n",
       "      <td>601.835398</td>\n",
       "      <td>116.106897</td>\n",
       "      <td>47.52931</td>\n",
       "      <td>190.964652</td>\n",
       "      <td>18.715863</td>\n",
       "      <td>22.209963</td>\n",
       "      <td>14.421370</td>\n",
       "      <td>42.546596</td>\n",
       "      <td>74.155855</td>\n",
       "    </tr>\n",
       "    <tr>\n",
       "      <th>std</th>\n",
       "      <td>3.421042e+05</td>\n",
       "      <td>21.089912</td>\n",
       "      <td>2.192031e+04</td>\n",
       "      <td>1.921910e+04</td>\n",
       "      <td>2.913022</td>\n",
       "      <td>0.185066</td>\n",
       "      <td>0.444207</td>\n",
       "      <td>0.241460</td>\n",
       "      <td>0.297337</td>\n",
       "      <td>1.634361e+05</td>\n",
       "      <td>...</td>\n",
       "      <td>1.815746</td>\n",
       "      <td>295.329588</td>\n",
       "      <td>249.668927</td>\n",
       "      <td>13.73609</td>\n",
       "      <td>482.313088</td>\n",
       "      <td>19.983743</td>\n",
       "      <td>20.995044</td>\n",
       "      <td>14.091417</td>\n",
       "      <td>8.404279</td>\n",
       "      <td>89.738992</td>\n",
       "    </tr>\n",
       "    <tr>\n",
       "      <th>min</th>\n",
       "      <td>6.028499e+06</td>\n",
       "      <td>1877.000000</td>\n",
       "      <td>0.000000e+00</td>\n",
       "      <td>0.000000e+00</td>\n",
       "      <td>0.000000</td>\n",
       "      <td>0.000000</td>\n",
       "      <td>0.000000</td>\n",
       "      <td>0.000000</td>\n",
       "      <td>0.000000</td>\n",
       "      <td>0.000000e+00</td>\n",
       "      <td>...</td>\n",
       "      <td>1.000000</td>\n",
       "      <td>180.000000</td>\n",
       "      <td>3.000000</td>\n",
       "      <td>0.00000</td>\n",
       "      <td>0.000000</td>\n",
       "      <td>0.000000</td>\n",
       "      <td>0.000000</td>\n",
       "      <td>1.000000</td>\n",
       "      <td>1.000000</td>\n",
       "      <td>0.000000</td>\n",
       "    </tr>\n",
       "    <tr>\n",
       "      <th>25%</th>\n",
       "      <td>6.039048e+06</td>\n",
       "      <td>1992.000000</td>\n",
       "      <td>1.428500e+01</td>\n",
       "      <td>3.170000e+01</td>\n",
       "      <td>0.000000</td>\n",
       "      <td>0.000000</td>\n",
       "      <td>0.000000</td>\n",
       "      <td>0.000000</td>\n",
       "      <td>0.000000</td>\n",
       "      <td>1.050000e+04</td>\n",
       "      <td>...</td>\n",
       "      <td>3.980000</td>\n",
       "      <td>442.730000</td>\n",
       "      <td>24.000000</td>\n",
       "      <td>50.94000</td>\n",
       "      <td>6.000000</td>\n",
       "      <td>0.000000</td>\n",
       "      <td>8.612500</td>\n",
       "      <td>2.000000</td>\n",
       "      <td>42.000000</td>\n",
       "      <td>28.655000</td>\n",
       "    </tr>\n",
       "    <tr>\n",
       "      <th>50%</th>\n",
       "      <td>6.080821e+06</td>\n",
       "      <td>2007.000000</td>\n",
       "      <td>6.300000e+01</td>\n",
       "      <td>8.100000e+01</td>\n",
       "      <td>1.000000</td>\n",
       "      <td>0.000000</td>\n",
       "      <td>0.000000</td>\n",
       "      <td>0.000000</td>\n",
       "      <td>0.000000</td>\n",
       "      <td>5.970000e+04</td>\n",
       "      <td>...</td>\n",
       "      <td>4.810000</td>\n",
       "      <td>524.140000</td>\n",
       "      <td>57.000000</td>\n",
       "      <td>51.39000</td>\n",
       "      <td>30.000000</td>\n",
       "      <td>14.290000</td>\n",
       "      <td>16.960000</td>\n",
       "      <td>9.000000</td>\n",
       "      <td>46.000000</td>\n",
       "      <td>56.275000</td>\n",
       "    </tr>\n",
       "    <tr>\n",
       "      <th>75%</th>\n",
       "      <td>6.528256e+06</td>\n",
       "      <td>2009.000000</td>\n",
       "      <td>9.000000e+01</td>\n",
       "      <td>1.149800e+02</td>\n",
       "      <td>1.000000</td>\n",
       "      <td>0.000000</td>\n",
       "      <td>1.000000</td>\n",
       "      <td>0.000000</td>\n",
       "      <td>0.000000</td>\n",
       "      <td>9.170000e+04</td>\n",
       "      <td>...</td>\n",
       "      <td>5.940000</td>\n",
       "      <td>677.330000</td>\n",
       "      <td>120.000000</td>\n",
       "      <td>51.88000</td>\n",
       "      <td>168.000000</td>\n",
       "      <td>29.170000</td>\n",
       "      <td>30.000000</td>\n",
       "      <td>26.000000</td>\n",
       "      <td>47.000000</td>\n",
       "      <td>90.507500</td>\n",
       "    </tr>\n",
       "    <tr>\n",
       "      <th>max</th>\n",
       "      <td>7.017665e+06</td>\n",
       "      <td>2088.000000</td>\n",
       "      <td>1.820000e+06</td>\n",
       "      <td>1.820000e+06</td>\n",
       "      <td>99.000000</td>\n",
       "      <td>10.000000</td>\n",
       "      <td>1.000000</td>\n",
       "      <td>1.000000</td>\n",
       "      <td>2.000000</td>\n",
       "      <td>1.040000e+07</td>\n",
       "      <td>...</td>\n",
       "      <td>18.750000</td>\n",
       "      <td>3023.800000</td>\n",
       "      <td>5685.000000</td>\n",
       "      <td>54.22000</td>\n",
       "      <td>13698.000000</td>\n",
       "      <td>100.000000</td>\n",
       "      <td>100.000000</td>\n",
       "      <td>47.000000</td>\n",
       "      <td>47.000000</td>\n",
       "      <td>1770.000000</td>\n",
       "    </tr>\n",
       "  </tbody>\n",
       "</table>\n",
       "<p>8 rows × 47 columns</p>\n",
       "</div>"
      ],
      "text/plain": [
       "              HY_id  HY_antiguedad  HY_metros_utiles  HY_metros_totales  \\\n",
       "count  9.958000e+03    4474.000000      7.072000e+03       9.924000e+03   \n",
       "mean   6.272842e+06    1997.306214      4.714240e+02       5.433917e+02   \n",
       "std    3.421042e+05      21.089912      2.192031e+04       1.921910e+04   \n",
       "min    6.028499e+06    1877.000000      0.000000e+00       0.000000e+00   \n",
       "25%    6.039048e+06    1992.000000      1.428500e+01       3.170000e+01   \n",
       "50%    6.080821e+06    2007.000000      6.300000e+01       8.100000e+01   \n",
       "75%    6.528256e+06    2009.000000      9.000000e+01       1.149800e+02   \n",
       "max    7.017665e+06    2088.000000      1.820000e+06       1.820000e+06   \n",
       "\n",
       "       HY_num_banos  HY_num_terrazas  HY_ascensor  HY_trastero  \\\n",
       "count   9958.000000      9958.000000  9958.000000  9958.000000   \n",
       "mean       0.819642         0.019984     0.270436     0.062161   \n",
       "std        2.913022         0.185066     0.444207     0.241460   \n",
       "min        0.000000         0.000000     0.000000     0.000000   \n",
       "25%        0.000000         0.000000     0.000000     0.000000   \n",
       "50%        1.000000         0.000000     0.000000     0.000000   \n",
       "75%        1.000000         0.000000     1.000000     0.000000   \n",
       "max       99.000000        10.000000     1.000000     1.000000   \n",
       "\n",
       "       HY_num_garajes     HY_precio  ...  IDEA_unitprice_rent_residential  \\\n",
       "count     9958.000000  9.958000e+03  ...                      6960.000000   \n",
       "mean         0.097007  7.672430e+04  ...                         5.164539   \n",
       "std          0.297337  1.634361e+05  ...                         1.815746   \n",
       "min          0.000000  0.000000e+00  ...                         1.000000   \n",
       "25%          0.000000  1.050000e+04  ...                         3.980000   \n",
       "50%          0.000000  5.970000e+04  ...                         4.810000   \n",
       "75%          0.000000  9.170000e+04  ...                         5.940000   \n",
       "max          2.000000  1.040000e+07  ...                        18.750000   \n",
       "\n",
       "       IDEA_price_rent_residential  IDEA_stock_rent_residential  \\\n",
       "count                  6960.000000                  6960.000000   \n",
       "mean                    601.835398                   116.106897   \n",
       "std                     295.329588                   249.668927   \n",
       "min                     180.000000                     3.000000   \n",
       "25%                     442.730000                    24.000000   \n",
       "50%                     524.140000                    57.000000   \n",
       "75%                     677.330000                   120.000000   \n",
       "max                    3023.800000                  5685.000000   \n",
       "\n",
       "       IDEA_demand_rent_residential  GA_page_views  GA_mean_bounce  \\\n",
       "count                    7323.00000    9958.000000     9958.000000   \n",
       "mean                       47.52931     190.964652       18.715863   \n",
       "std                        13.73609     482.313088       19.983743   \n",
       "min                         0.00000       0.000000        0.000000   \n",
       "25%                        50.94000       6.000000        0.000000   \n",
       "50%                        51.39000      30.000000       14.290000   \n",
       "75%                        51.88000     168.000000       29.170000   \n",
       "max                        54.22000   13698.000000      100.000000   \n",
       "\n",
       "       GA_exit_rate  GA_quincena_ini  GA_quincena_ult       TARGET  \n",
       "count   9958.000000      9958.000000      9958.000000  9958.000000  \n",
       "mean      22.209963        14.421370        42.546596    74.155855  \n",
       "std       20.995044        14.091417         8.404279    89.738992  \n",
       "min        0.000000         1.000000         1.000000     0.000000  \n",
       "25%        8.612500         2.000000        42.000000    28.655000  \n",
       "50%       16.960000         9.000000        46.000000    56.275000  \n",
       "75%       30.000000        26.000000        47.000000    90.507500  \n",
       "max      100.000000        47.000000        47.000000  1770.000000  \n",
       "\n",
       "[8 rows x 47 columns]"
      ]
     },
     "execution_count": 4,
     "metadata": {},
     "output_type": "execute_result"
    }
   ],
   "source": [
    "df_modelar.describe()"
   ]
  },
  {
   "cell_type": "code",
   "execution_count": 5,
   "metadata": {},
   "outputs": [],
   "source": [
    "# ID (HY_id)\n",
    "# 9958 ids únicas | todas las entradas tiene id\n",
    "# Parece no haber problema al convertirlas a int"
   ]
  },
  {
   "cell_type": "code",
   "execution_count": 6,
   "metadata": {},
   "outputs": [
    {
     "data": {
      "text/plain": [
       "0    6028499\n",
       "1    6028500\n",
       "2    6028502\n",
       "3    6028512\n",
       "4    6028513\n",
       "Name: HY_id, dtype: int64"
      ]
     },
     "execution_count": 6,
     "metadata": {},
     "output_type": "execute_result"
    }
   ],
   "source": [
    "df_modelar['HY_id'].head()"
   ]
  },
  {
   "cell_type": "code",
   "execution_count": 7,
   "metadata": {},
   "outputs": [
    {
     "data": {
      "text/plain": [
       "count    9.958000e+03\n",
       "mean     6.272842e+06\n",
       "std      3.421042e+05\n",
       "min      6.028499e+06\n",
       "25%      6.039048e+06\n",
       "50%      6.080821e+06\n",
       "75%      6.528256e+06\n",
       "max      7.017665e+06\n",
       "Name: HY_id, dtype: float64"
      ]
     },
     "execution_count": 7,
     "metadata": {},
     "output_type": "execute_result"
    }
   ],
   "source": [
    "df_modelar['HY_id'].describe()"
   ]
  },
  {
   "cell_type": "code",
   "execution_count": 8,
   "metadata": {},
   "outputs": [
    {
     "data": {
      "text/plain": [
       "count    9.958000e+03\n",
       "mean     6.272842e+06\n",
       "std      3.421042e+05\n",
       "min      6.028499e+06\n",
       "25%      6.039048e+06\n",
       "50%      6.080821e+06\n",
       "75%      6.528256e+06\n",
       "max      7.017665e+06\n",
       "Name: HY_id, dtype: float64"
      ]
     },
     "execution_count": 8,
     "metadata": {},
     "output_type": "execute_result"
    }
   ],
   "source": [
    "df_modelar.HY_id.astype(int).describe()"
   ]
  },
  {
   "cell_type": "code",
   "execution_count": 9,
   "metadata": {},
   "outputs": [
    {
     "name": "stdout",
     "output_type": "stream",
     "text": [
      "Únicos float: 9958\n",
      "Únicos int: 9958\n",
      "Iguales float-int: True\n"
     ]
    }
   ],
   "source": [
    "unique_id_float = df_modelar['HY_id'].unique()\n",
    "unique_id_int = df_modelar.HY_id.astype(int).unique()\n",
    "\n",
    "print(\"Únicos float:\", len(unique_id_float))\n",
    "print(\"Únicos int:\", len(unique_id_int))\n",
    "print(\"Iguales float-int:\", set(unique_id_float) == set(unique_id_int))"
   ]
  },
  {
   "cell_type": "code",
   "execution_count": 10,
   "metadata": {},
   "outputs": [],
   "source": [
    "# Código postal (HY_cod_postal)\n",
    "# https://es.wikipedia.org/wiki/C%C3%B3digo_postal_de_Espa%C3%B1a\n",
    "# https://www.solosequenosenada.com/2010/09/16/listado-de-todos-los-codigos-postales-de-espana/\n",
    "\n",
    "# En la actualidad el territorio español se divide en 11.752 códigos postales.\n",
    "\n",
    "# Las dos primeras hacen referencia a la provincia\n",
    "# Las tres cifras finales indican la zona postalː\n",
    "#    la tercera cifra indica el encaminamiento;\n",
    "#    el cuarto dígito representa la ruta;\n",
    "#    el quinto dígito representa el reparto.\n",
    "\n",
    "\n",
    "# En el dataset hay 9950 códifos postales, 1231 diferentes (string, float e int)\n",
    "# Parece no haber problema al convertirlos a int | todas las entradas tienen código postal\n",
    "# Puede ser mejor leerlos de fichero como string para que todos tenga 5 dígitos\n",
    "\n",
    "#Idea 1 - separar código de provincia"
   ]
  },
  {
   "cell_type": "code",
   "execution_count": 11,
   "metadata": {},
   "outputs": [
    {
     "data": {
      "text/plain": [
       "0    18151\n",
       "1    29915\n",
       "2    03740\n",
       "3    30592\n",
       "4    30592\n",
       "Name: HY_cod_postal, dtype: object"
      ]
     },
     "execution_count": 11,
     "metadata": {},
     "output_type": "execute_result"
    }
   ],
   "source": [
    "df_modelar['HY_cod_postal'].head()"
   ]
  },
  {
   "cell_type": "code",
   "execution_count": 12,
   "metadata": {},
   "outputs": [
    {
     "data": {
      "text/plain": [
       "count      9958\n",
       "unique     1231\n",
       "top       04740\n",
       "freq        243\n",
       "Name: HY_cod_postal, dtype: object"
      ]
     },
     "execution_count": 12,
     "metadata": {},
     "output_type": "execute_result"
    }
   ],
   "source": [
    "df_modelar['HY_cod_postal'].describe()"
   ]
  },
  {
   "cell_type": "code",
   "execution_count": 13,
   "metadata": {},
   "outputs": [
    {
     "data": {
      "text/plain": [
       "count     9958.000000\n",
       "mean     24008.655654\n",
       "std      16685.040678\n",
       "min       2001.000000\n",
       "25%       4800.000000\n",
       "50%      28980.500000\n",
       "75%      43540.000000\n",
       "max      50370.000000\n",
       "Name: HY_cod_postal, dtype: float64"
      ]
     },
     "execution_count": 13,
     "metadata": {},
     "output_type": "execute_result"
    }
   ],
   "source": [
    "df_modelar.HY_cod_postal.astype(float).describe()"
   ]
  },
  {
   "cell_type": "code",
   "execution_count": 14,
   "metadata": {},
   "outputs": [
    {
     "data": {
      "text/plain": [
       "count     9958.000000\n",
       "mean     24008.655654\n",
       "std      16685.040678\n",
       "min       2001.000000\n",
       "25%       4800.000000\n",
       "50%      28980.500000\n",
       "75%      43540.000000\n",
       "max      50370.000000\n",
       "Name: HY_cod_postal, dtype: float64"
      ]
     },
     "execution_count": 14,
     "metadata": {},
     "output_type": "execute_result"
    }
   ],
   "source": [
    "df_modelar.HY_cod_postal.astype(int).describe()"
   ]
  },
  {
   "cell_type": "code",
   "execution_count": 15,
   "metadata": {},
   "outputs": [
    {
     "name": "stdout",
     "output_type": "stream",
     "text": [
      "Únicos string: 1231\n",
      "Únicos float: 1231\n",
      "Únicos int: 1231\n",
      "Iguales float-int: True\n"
     ]
    }
   ],
   "source": [
    "unique_cd_string = df_modelar['HY_cod_postal'].unique()\n",
    "unique_cd_float = df_modelar.HY_cod_postal.astype(float).unique()\n",
    "unique_cd_int = df_modelar.HY_cod_postal.astype(int).unique()\n",
    "\n",
    "print(\"Únicos string:\", len(unique_cd_string))\n",
    "print(\"Únicos float:\", len(unique_cd_float))\n",
    "print(\"Únicos int:\", len(unique_cd_int))\n",
    "print(\"Iguales float-int:\", set(unique_cd_float) == set(unique_cd_int))"
   ]
  },
  {
   "cell_type": "code",
   "execution_count": 16,
   "metadata": {},
   "outputs": [],
   "source": [
    "# Provincia (HY_provincia)\n",
    "\n",
    "# Hay 42 filas sin provincia (pero con código postal)\n",
    "# La provincia se puede inferir del código postal -> Mezclar código postal/provincia\n",
    "# y usar provincia como booleano"
   ]
  },
  {
   "cell_type": "code",
   "execution_count": 17,
   "metadata": {},
   "outputs": [
    {
     "data": {
      "text/plain": [
       "0     Granada\n",
       "1      Málaga\n",
       "2    Alicante\n",
       "3      Murcia\n",
       "4      Murcia\n",
       "Name: HY_provincia, dtype: object"
      ]
     },
     "execution_count": 17,
     "metadata": {},
     "output_type": "execute_result"
    }
   ],
   "source": [
    "df_modelar['HY_provincia'].head()"
   ]
  },
  {
   "cell_type": "code",
   "execution_count": 18,
   "metadata": {},
   "outputs": [
    {
     "data": {
      "text/plain": [
       "count         9916\n",
       "unique          42\n",
       "top       Valencia\n",
       "freq          2080\n",
       "Name: HY_provincia, dtype: object"
      ]
     },
     "execution_count": 18,
     "metadata": {},
     "output_type": "execute_result"
    }
   ],
   "source": [
    "df_modelar['HY_provincia'].describe()"
   ]
  },
  {
   "cell_type": "code",
   "execution_count": 19,
   "metadata": {},
   "outputs": [
    {
     "name": "stdout",
     "output_type": "stream",
     "text": [
      "Filas sin provincia: 42\n"
     ]
    }
   ],
   "source": [
    "df_sin_provincia = df_modelar[df_modelar['HY_provincia'].isnull() == True]\n",
    "print(\"Filas sin provincia:\", df_sin_provincia['HY_id'].count())\n",
    "\n",
    "#df_sin_provincia[['HY_id', 'HY_cod_postal']]"
   ]
  },
  {
   "cell_type": "code",
   "execution_count": 20,
   "metadata": {},
   "outputs": [],
   "source": [
    "# Descripción del inmueble (HY_descripcion)\n",
    "# Hay 3942 filas sin descripción\n",
    "\n",
    "# ¿NLP?"
   ]
  },
  {
   "cell_type": "code",
   "execution_count": 21,
   "metadata": {},
   "outputs": [
    {
     "data": {
      "text/plain": [
       "0    Plaza de Garaje ubicada en la planta sótano de...\n",
       "1                                                  NaN\n",
       "2    El inmueble(piso) se encuentra situado en el d...\n",
       "3    Plaza de garaje situada en la planta semisótan...\n",
       "4    Plaza de garaje situada en la planta semisótan...\n",
       "Name: HY_descripcion, dtype: object"
      ]
     },
     "execution_count": 21,
     "metadata": {},
     "output_type": "execute_result"
    }
   ],
   "source": [
    "df_modelar['HY_descripcion'].head()"
   ]
  },
  {
   "cell_type": "code",
   "execution_count": 22,
   "metadata": {},
   "outputs": [
    {
     "data": {
      "text/plain": [
       "count                                                  6016\n",
       "unique                                                 3467\n",
       "top       Plaza de garaje ubicada en la planta sótano de...\n",
       "freq                                                     76\n",
       "Name: HY_descripcion, dtype: object"
      ]
     },
     "execution_count": 22,
     "metadata": {},
     "output_type": "execute_result"
    }
   ],
   "source": [
    "df_modelar['HY_descripcion'].describe()"
   ]
  },
  {
   "cell_type": "code",
   "execution_count": 23,
   "metadata": {},
   "outputs": [
    {
     "name": "stdout",
     "output_type": "stream",
     "text": [
      "Filas sin descripcion: 3942\n"
     ]
    }
   ],
   "source": [
    "df_sin_descripcion = df_modelar[df_modelar['HY_descripcion'].isnull()]\n",
    "print(\"Filas sin descripcion:\", df_sin_descripcion['HY_id'].count())\n",
    "#df_sin_descripcion[['HY_id']]"
   ]
  },
  {
   "cell_type": "code",
   "execution_count": 24,
   "metadata": {},
   "outputs": [],
   "source": [
    "# Distribución (HY_distribucion)\n",
    "# ¿Los sitios sin distribución y sin descripción son los mismos?\n",
    "\n",
    "# ¿NLP?"
   ]
  },
  {
   "cell_type": "code",
   "execution_count": 25,
   "metadata": {},
   "outputs": [
    {
     "data": {
      "text/plain": [
       "0              NaN\n",
       "1              NaN\n",
       "2    VIVIENDA-PISO\n",
       "3              NaN\n",
       "4              NaN\n",
       "Name: HY_distribucion, dtype: object"
      ]
     },
     "execution_count": 25,
     "metadata": {},
     "output_type": "execute_result"
    }
   ],
   "source": [
    "df_modelar['HY_distribucion'].head()"
   ]
  },
  {
   "cell_type": "code",
   "execution_count": 26,
   "metadata": {},
   "outputs": [
    {
     "data": {
      "text/plain": [
       "count                                                  3213\n",
       "unique                                                 1989\n",
       "top       La vivienda se distribuye en cocina, salón-com...\n",
       "freq                                                     52\n",
       "Name: HY_distribucion, dtype: object"
      ]
     },
     "execution_count": 26,
     "metadata": {},
     "output_type": "execute_result"
    }
   ],
   "source": [
    "df_modelar['HY_distribucion'].describe()"
   ]
  },
  {
   "cell_type": "code",
   "execution_count": 27,
   "metadata": {},
   "outputs": [
    {
     "name": "stdout",
     "output_type": "stream",
     "text": [
      "Filas sin distribucion:  3942\n"
     ]
    }
   ],
   "source": [
    "df_sin_distribucion = df_modelar[df_modelar['HY_descripcion'].isnull()]\n",
    "print(\"Filas sin distribucion: \", df_sin_distribucion['HY_id'].count())\n",
    "#df_sin_distribucion[['HY_id']]"
   ]
  },
  {
   "cell_type": "code",
   "execution_count": 28,
   "metadata": {},
   "outputs": [
    {
     "data": {
      "text/plain": [
       "True"
      ]
     },
     "execution_count": 28,
     "metadata": {},
     "output_type": "execute_result"
    }
   ],
   "source": [
    "set(df_sin_descripcion['HY_id']) == set(df_sin_distribucion['HY_id'])"
   ]
  },
  {
   "cell_type": "code",
   "execution_count": 29,
   "metadata": {},
   "outputs": [],
   "source": [
    "# Tipo (HY_tipo)\n",
    "# Filas sin tipo:  0"
   ]
  },
  {
   "cell_type": "code",
   "execution_count": 30,
   "metadata": {},
   "outputs": [
    {
     "data": {
      "text/plain": [
       "0            Garaje\n",
       "1    Casa de pueblo\n",
       "2              Piso\n",
       "3            Garaje\n",
       "4            Garaje\n",
       "Name: HY_tipo, dtype: object"
      ]
     },
     "execution_count": 30,
     "metadata": {},
     "output_type": "execute_result"
    }
   ],
   "source": [
    "df_modelar['HY_tipo'].head()"
   ]
  },
  {
   "cell_type": "code",
   "execution_count": 31,
   "metadata": {},
   "outputs": [
    {
     "data": {
      "text/plain": [
       "count     9958\n",
       "unique      20\n",
       "top       Piso\n",
       "freq      4182\n",
       "Name: HY_tipo, dtype: object"
      ]
     },
     "execution_count": 31,
     "metadata": {},
     "output_type": "execute_result"
    }
   ],
   "source": [
    "df_modelar['HY_tipo'].describe()"
   ]
  },
  {
   "cell_type": "code",
   "execution_count": 32,
   "metadata": {},
   "outputs": [
    {
     "name": "stdout",
     "output_type": "stream",
     "text": [
      "Filas sin tipo:  0\n"
     ]
    }
   ],
   "source": [
    "df_sin_tipo = df_modelar[df_modelar['HY_tipo'].isnull()]\n",
    "print(\"Filas sin tipo: \", df_sin_tipo['HY_id'].count())\n",
    "#df_sin_tipo[['HY_id']]"
   ]
  },
  {
   "cell_type": "code",
   "execution_count": 33,
   "metadata": {},
   "outputs": [
    {
     "data": {
      "text/plain": [
       "HY_tipo\n",
       "Almacén                            3\n",
       "Aparcamiento                       1\n",
       "Casa de pueblo                   557\n",
       "Chalet adosado                   433\n",
       "Chalet independiente             209\n",
       "Chalet pareado                     9\n",
       "Dúplex                           184\n",
       "Edificio comercial                 2\n",
       "Edificio turístico                17\n",
       "Garaje                          2761\n",
       "Local                            827\n",
       "Nave adosada                     130\n",
       "Nave aislada                      38\n",
       "Oficina                          103\n",
       "Otro                              12\n",
       "Piso                            4182\n",
       "Solar                            198\n",
       "Suelo rústico no urbanizable       2\n",
       "Trastero                         282\n",
       "Ático                              8\n",
       "Name: HY_tipo, dtype: int64"
      ]
     },
     "execution_count": 33,
     "metadata": {},
     "output_type": "execute_result"
    }
   ],
   "source": [
    "df_modelar.groupby('HY_tipo')['HY_tipo'].count()"
   ]
  },
  {
   "cell_type": "code",
   "execution_count": 34,
   "metadata": {},
   "outputs": [],
   "source": [
    "# Antigüedad (HY_antiguedad)\n",
    "\n",
    "# Filas sin antigüedad: 5484\n",
    "# Minimo: 1877\n",
    "# Máximo: 2088\n",
    "\n",
    "# Comprobar años raros\n",
    "\n",
    "# Idea 1 -> normalizar con ~años máximo\n",
    "# Idea 2 -> Hacer grupos de épocas (buscar en que basarse)"
   ]
  },
  {
   "cell_type": "code",
   "execution_count": 35,
   "metadata": {},
   "outputs": [
    {
     "data": {
      "text/plain": [
       "0       NaN\n",
       "1       NaN\n",
       "2    2008.0\n",
       "3       NaN\n",
       "4       NaN\n",
       "Name: HY_antiguedad, dtype: float64"
      ]
     },
     "execution_count": 35,
     "metadata": {},
     "output_type": "execute_result"
    }
   ],
   "source": [
    "df_modelar['HY_antiguedad'].head()"
   ]
  },
  {
   "cell_type": "code",
   "execution_count": 36,
   "metadata": {},
   "outputs": [
    {
     "data": {
      "text/plain": [
       "count    4474.000000\n",
       "mean     1997.306214\n",
       "std        21.089912\n",
       "min      1877.000000\n",
       "25%      1992.000000\n",
       "50%      2007.000000\n",
       "75%      2009.000000\n",
       "max      2088.000000\n",
       "Name: HY_antiguedad, dtype: float64"
      ]
     },
     "execution_count": 36,
     "metadata": {},
     "output_type": "execute_result"
    }
   ],
   "source": [
    "df_modelar['HY_antiguedad'].describe()"
   ]
  },
  {
   "cell_type": "code",
   "execution_count": 37,
   "metadata": {},
   "outputs": [
    {
     "name": "stdout",
     "output_type": "stream",
     "text": [
      "Filas sin antigüedad:  5484\n"
     ]
    }
   ],
   "source": [
    "df_sin_antiguedad = df_modelar[df_modelar['HY_antiguedad'].isnull()]\n",
    "print(\"Filas sin antigüedad: \", df_sin_antiguedad['HY_id'].count())\n",
    "#df_sin_antiguedad[['HY_id']]"
   ]
  },
  {
   "cell_type": "code",
   "execution_count": 38,
   "metadata": {},
   "outputs": [
    {
     "name": "stdout",
     "output_type": "stream",
     "text": [
      "> 2016:  1\n"
     ]
    },
    {
     "data": {
      "text/html": [
       "<div>\n",
       "<style scoped>\n",
       "    .dataframe tbody tr th:only-of-type {\n",
       "        vertical-align: middle;\n",
       "    }\n",
       "\n",
       "    .dataframe tbody tr th {\n",
       "        vertical-align: top;\n",
       "    }\n",
       "\n",
       "    .dataframe thead th {\n",
       "        text-align: right;\n",
       "    }\n",
       "</style>\n",
       "<table border=\"1\" class=\"dataframe\">\n",
       "  <thead>\n",
       "    <tr style=\"text-align: right;\">\n",
       "      <th></th>\n",
       "      <th>HY_id</th>\n",
       "    </tr>\n",
       "  </thead>\n",
       "  <tbody>\n",
       "    <tr>\n",
       "      <th>1012</th>\n",
       "      <td>6033510</td>\n",
       "    </tr>\n",
       "  </tbody>\n",
       "</table>\n",
       "</div>"
      ],
      "text/plain": [
       "        HY_id\n",
       "1012  6033510"
      ]
     },
     "metadata": {},
     "output_type": "display_data"
    },
    {
     "data": {
      "text/plain": [
       "HY_antiguedad\n",
       "1877.0      1\n",
       "1880.0      1\n",
       "1884.0      1\n",
       "1886.0      1\n",
       "1887.0      6\n",
       "1889.0      3\n",
       "1890.0      5\n",
       "1900.0     33\n",
       "1903.0      1\n",
       "1910.0     10\n",
       "1912.0      1\n",
       "1913.0      1\n",
       "1916.0      1\n",
       "1917.0      1\n",
       "1920.0     18\n",
       "1921.0      1\n",
       "1925.0      3\n",
       "1928.0      1\n",
       "1930.0     19\n",
       "1932.0      4\n",
       "1933.0      1\n",
       "1934.0      1\n",
       "1935.0      2\n",
       "1936.0      1\n",
       "1940.0     22\n",
       "1941.0      1\n",
       "1943.0      1\n",
       "1945.0      7\n",
       "1946.0      1\n",
       "1947.0      1\n",
       "         ... \n",
       "1987.0     19\n",
       "1988.0     16\n",
       "1989.0     95\n",
       "1990.0     27\n",
       "1991.0     22\n",
       "1992.0     13\n",
       "1993.0     58\n",
       "1994.0     48\n",
       "1995.0     27\n",
       "1996.0     17\n",
       "1997.0     16\n",
       "1998.0     16\n",
       "1999.0     15\n",
       "2000.0     27\n",
       "2001.0     38\n",
       "2002.0     53\n",
       "2003.0     67\n",
       "2004.0     76\n",
       "2005.0    153\n",
       "2006.0    224\n",
       "2007.0    323\n",
       "2008.0    754\n",
       "2009.0    591\n",
       "2010.0    388\n",
       "2011.0    281\n",
       "2012.0    119\n",
       "2013.0     30\n",
       "2015.0      2\n",
       "2016.0     23\n",
       "2088.0      1\n",
       "Name: HY_id, Length: 97, dtype: int64"
      ]
     },
     "execution_count": 38,
     "metadata": {},
     "output_type": "execute_result"
    }
   ],
   "source": [
    "df_antiguedad_mayor_2016= df_modelar[df_modelar['HY_antiguedad'] > 2016]\n",
    "print(\"> 2016: \", df_antiguedad_mayor_2016['HY_id'].count())\n",
    "display(df_antiguedad_mayor_2016[['HY_id']])\n",
    "\n",
    "anyos = df_modelar['HY_antiguedad'].unique()\n",
    "anyos.sort()\n",
    "anyos\n",
    "df_modelar.groupby('HY_antiguedad')['HY_id'].count()"
   ]
  },
  {
   "cell_type": "code",
   "execution_count": null,
   "metadata": {},
   "outputs": [],
   "source": []
  },
  {
   "cell_type": "code",
   "execution_count": 39,
   "metadata": {},
   "outputs": [],
   "source": [
    "# Metros útiles m^2 (HY_metros_utiles)\n",
    "\n",
    "# Filas sin metros útiles: 2886\n",
    "# Hay una fila con más de 1 millón de m^2 :-O"
   ]
  },
  {
   "cell_type": "code",
   "execution_count": 40,
   "metadata": {},
   "outputs": [
    {
     "data": {
      "text/plain": [
       "0      NaN\n",
       "1      NaN\n",
       "2    92.58\n",
       "3    11.81\n",
       "4    14.29\n",
       "Name: HY_metros_utiles, dtype: float64"
      ]
     },
     "execution_count": 40,
     "metadata": {},
     "output_type": "execute_result"
    }
   ],
   "source": [
    "df_modelar['HY_metros_utiles'].head()"
   ]
  },
  {
   "cell_type": "code",
   "execution_count": 41,
   "metadata": {},
   "outputs": [
    {
     "data": {
      "text/plain": [
       "count    7.072000e+03\n",
       "mean     4.714240e+02\n",
       "std      2.192031e+04\n",
       "min      0.000000e+00\n",
       "25%      1.428500e+01\n",
       "50%      6.300000e+01\n",
       "75%      9.000000e+01\n",
       "max      1.820000e+06\n",
       "Name: HY_metros_utiles, dtype: float64"
      ]
     },
     "execution_count": 41,
     "metadata": {},
     "output_type": "execute_result"
    }
   ],
   "source": [
    "df_modelar['HY_metros_utiles'].describe()"
   ]
  },
  {
   "cell_type": "code",
   "execution_count": 42,
   "metadata": {},
   "outputs": [
    {
     "name": "stdout",
     "output_type": "stream",
     "text": [
      "Filas sin metros útiles: 2886\n"
     ]
    }
   ],
   "source": [
    "df_sin_metros_utiles = df_modelar[df_modelar['HY_metros_utiles'].isnull()]\n",
    "print(\"Filas sin metros útiles:\", df_sin_metros_utiles['HY_id'].count())\n",
    "#df_sin_metros_utiles[['HY_id']]"
   ]
  },
  {
   "cell_type": "code",
   "execution_count": 43,
   "metadata": {},
   "outputs": [
    {
     "name": "stdout",
     "output_type": "stream",
     "text": [
      "> 1000000 : 1\n"
     ]
    },
    {
     "data": {
      "text/html": [
       "<div>\n",
       "<style scoped>\n",
       "    .dataframe tbody tr th:only-of-type {\n",
       "        vertical-align: middle;\n",
       "    }\n",
       "\n",
       "    .dataframe tbody tr th {\n",
       "        vertical-align: top;\n",
       "    }\n",
       "\n",
       "    .dataframe thead th {\n",
       "        text-align: right;\n",
       "    }\n",
       "</style>\n",
       "<table border=\"1\" class=\"dataframe\">\n",
       "  <thead>\n",
       "    <tr style=\"text-align: right;\">\n",
       "      <th></th>\n",
       "      <th>HY_id</th>\n",
       "      <th>HY_cod_postal</th>\n",
       "      <th>HY_provincia</th>\n",
       "      <th>HY_descripcion</th>\n",
       "      <th>HY_distribucion</th>\n",
       "      <th>HY_tipo</th>\n",
       "      <th>HY_antiguedad</th>\n",
       "      <th>HY_metros_utiles</th>\n",
       "      <th>HY_metros_totales</th>\n",
       "      <th>HY_num_banos</th>\n",
       "      <th>...</th>\n",
       "      <th>IDEA_unitprice_rent_residential</th>\n",
       "      <th>IDEA_price_rent_residential</th>\n",
       "      <th>IDEA_stock_rent_residential</th>\n",
       "      <th>IDEA_demand_rent_residential</th>\n",
       "      <th>GA_page_views</th>\n",
       "      <th>GA_mean_bounce</th>\n",
       "      <th>GA_exit_rate</th>\n",
       "      <th>GA_quincena_ini</th>\n",
       "      <th>GA_quincena_ult</th>\n",
       "      <th>TARGET</th>\n",
       "    </tr>\n",
       "  </thead>\n",
       "  <tbody>\n",
       "    <tr>\n",
       "      <th>9904</th>\n",
       "      <td>7008680</td>\n",
       "      <td>50270</td>\n",
       "      <td>Zaragoza</td>\n",
       "      <td>NaN</td>\n",
       "      <td>NaN</td>\n",
       "      <td>Solar</td>\n",
       "      <td>NaN</td>\n",
       "      <td>1820000.0</td>\n",
       "      <td>1820000.0</td>\n",
       "      <td>0</td>\n",
       "      <td>...</td>\n",
       "      <td>3.98</td>\n",
       "      <td>331.08</td>\n",
       "      <td>9.0</td>\n",
       "      <td>51.1</td>\n",
       "      <td>27</td>\n",
       "      <td>22.5</td>\n",
       "      <td>13.89</td>\n",
       "      <td>39</td>\n",
       "      <td>42</td>\n",
       "      <td>166.8</td>\n",
       "    </tr>\n",
       "  </tbody>\n",
       "</table>\n",
       "<p>1 rows × 53 columns</p>\n",
       "</div>"
      ],
      "text/plain": [
       "        HY_id HY_cod_postal HY_provincia HY_descripcion HY_distribucion  \\\n",
       "9904  7008680         50270     Zaragoza            NaN             NaN   \n",
       "\n",
       "     HY_tipo  HY_antiguedad  HY_metros_utiles  HY_metros_totales  \\\n",
       "9904   Solar            NaN         1820000.0          1820000.0   \n",
       "\n",
       "      HY_num_banos  ... IDEA_unitprice_rent_residential  \\\n",
       "9904             0  ...                            3.98   \n",
       "\n",
       "      IDEA_price_rent_residential  IDEA_stock_rent_residential  \\\n",
       "9904                       331.08                          9.0   \n",
       "\n",
       "      IDEA_demand_rent_residential  GA_page_views  GA_mean_bounce  \\\n",
       "9904                          51.1             27            22.5   \n",
       "\n",
       "      GA_exit_rate  GA_quincena_ini  GA_quincena_ult  TARGET  \n",
       "9904         13.89               39               42   166.8  \n",
       "\n",
       "[1 rows x 53 columns]"
      ]
     },
     "metadata": {},
     "output_type": "display_data"
    },
    {
     "data": {
      "text/html": [
       "<div>\n",
       "<style scoped>\n",
       "    .dataframe tbody tr th:only-of-type {\n",
       "        vertical-align: middle;\n",
       "    }\n",
       "\n",
       "    .dataframe tbody tr th {\n",
       "        vertical-align: top;\n",
       "    }\n",
       "\n",
       "    .dataframe thead th {\n",
       "        text-align: right;\n",
       "    }\n",
       "</style>\n",
       "<table border=\"1\" class=\"dataframe\">\n",
       "  <thead>\n",
       "    <tr style=\"text-align: right;\">\n",
       "      <th></th>\n",
       "      <th>HY_id</th>\n",
       "      <th>HY_cod_postal</th>\n",
       "      <th>HY_provincia</th>\n",
       "      <th>HY_descripcion</th>\n",
       "      <th>HY_distribucion</th>\n",
       "      <th>HY_tipo</th>\n",
       "      <th>HY_antiguedad</th>\n",
       "      <th>HY_metros_utiles</th>\n",
       "      <th>HY_metros_totales</th>\n",
       "      <th>HY_num_banos</th>\n",
       "      <th>...</th>\n",
       "      <th>IDEA_unitprice_rent_residential</th>\n",
       "      <th>IDEA_price_rent_residential</th>\n",
       "      <th>IDEA_stock_rent_residential</th>\n",
       "      <th>IDEA_demand_rent_residential</th>\n",
       "      <th>GA_page_views</th>\n",
       "      <th>GA_mean_bounce</th>\n",
       "      <th>GA_exit_rate</th>\n",
       "      <th>GA_quincena_ini</th>\n",
       "      <th>GA_quincena_ult</th>\n",
       "      <th>TARGET</th>\n",
       "    </tr>\n",
       "  </thead>\n",
       "  <tbody>\n",
       "    <tr>\n",
       "      <th>9904</th>\n",
       "      <td>7008680</td>\n",
       "      <td>50270</td>\n",
       "      <td>Zaragoza</td>\n",
       "      <td>NaN</td>\n",
       "      <td>NaN</td>\n",
       "      <td>Solar</td>\n",
       "      <td>NaN</td>\n",
       "      <td>1820000.0</td>\n",
       "      <td>1820000.0</td>\n",
       "      <td>0</td>\n",
       "      <td>...</td>\n",
       "      <td>3.98</td>\n",
       "      <td>331.08</td>\n",
       "      <td>9.0</td>\n",
       "      <td>51.10</td>\n",
       "      <td>27</td>\n",
       "      <td>22.50</td>\n",
       "      <td>13.89</td>\n",
       "      <td>39</td>\n",
       "      <td>42</td>\n",
       "      <td>166.80</td>\n",
       "    </tr>\n",
       "    <tr>\n",
       "      <th>9324</th>\n",
       "      <td>6941069</td>\n",
       "      <td>04639</td>\n",
       "      <td>NaN</td>\n",
       "      <td>NaN</td>\n",
       "      <td>NaN</td>\n",
       "      <td>Solar</td>\n",
       "      <td>NaN</td>\n",
       "      <td>181590.0</td>\n",
       "      <td>181590.0</td>\n",
       "      <td>0</td>\n",
       "      <td>...</td>\n",
       "      <td>5.54</td>\n",
       "      <td>481.25</td>\n",
       "      <td>27.0</td>\n",
       "      <td>52.07</td>\n",
       "      <td>22</td>\n",
       "      <td>0.00</td>\n",
       "      <td>24.85</td>\n",
       "      <td>35</td>\n",
       "      <td>47</td>\n",
       "      <td>43.07</td>\n",
       "    </tr>\n",
       "    <tr>\n",
       "      <th>9649</th>\n",
       "      <td>6963968</td>\n",
       "      <td>35637</td>\n",
       "      <td>Las Palmas</td>\n",
       "      <td>NaN</td>\n",
       "      <td>NaN</td>\n",
       "      <td>Solar</td>\n",
       "      <td>NaN</td>\n",
       "      <td>144537.0</td>\n",
       "      <td>144537.0</td>\n",
       "      <td>0</td>\n",
       "      <td>...</td>\n",
       "      <td>NaN</td>\n",
       "      <td>NaN</td>\n",
       "      <td>NaN</td>\n",
       "      <td>0.00</td>\n",
       "      <td>4</td>\n",
       "      <td>66.67</td>\n",
       "      <td>50.00</td>\n",
       "      <td>37</td>\n",
       "      <td>43</td>\n",
       "      <td>12.33</td>\n",
       "    </tr>\n",
       "    <tr>\n",
       "      <th>9650</th>\n",
       "      <td>6963970</td>\n",
       "      <td>35637</td>\n",
       "      <td>Las Palmas</td>\n",
       "      <td>NaN</td>\n",
       "      <td>NaN</td>\n",
       "      <td>Solar</td>\n",
       "      <td>NaN</td>\n",
       "      <td>112717.0</td>\n",
       "      <td>112717.0</td>\n",
       "      <td>0</td>\n",
       "      <td>...</td>\n",
       "      <td>NaN</td>\n",
       "      <td>NaN</td>\n",
       "      <td>NaN</td>\n",
       "      <td>0.00</td>\n",
       "      <td>3</td>\n",
       "      <td>50.00</td>\n",
       "      <td>50.00</td>\n",
       "      <td>37</td>\n",
       "      <td>38</td>\n",
       "      <td>41.50</td>\n",
       "    </tr>\n",
       "    <tr>\n",
       "      <th>9648</th>\n",
       "      <td>6963963</td>\n",
       "      <td>35637</td>\n",
       "      <td>Las Palmas</td>\n",
       "      <td>NaN</td>\n",
       "      <td>NaN</td>\n",
       "      <td>Solar</td>\n",
       "      <td>NaN</td>\n",
       "      <td>100853.0</td>\n",
       "      <td>100853.0</td>\n",
       "      <td>0</td>\n",
       "      <td>...</td>\n",
       "      <td>NaN</td>\n",
       "      <td>NaN</td>\n",
       "      <td>NaN</td>\n",
       "      <td>0.00</td>\n",
       "      <td>5</td>\n",
       "      <td>50.00</td>\n",
       "      <td>33.33</td>\n",
       "      <td>37</td>\n",
       "      <td>40</td>\n",
       "      <td>67.00</td>\n",
       "    </tr>\n",
       "  </tbody>\n",
       "</table>\n",
       "<p>5 rows × 53 columns</p>\n",
       "</div>"
      ],
      "text/plain": [
       "        HY_id HY_cod_postal HY_provincia HY_descripcion HY_distribucion  \\\n",
       "9904  7008680         50270     Zaragoza            NaN             NaN   \n",
       "9324  6941069         04639          NaN            NaN             NaN   \n",
       "9649  6963968         35637   Las Palmas            NaN             NaN   \n",
       "9650  6963970         35637   Las Palmas            NaN             NaN   \n",
       "9648  6963963         35637   Las Palmas            NaN             NaN   \n",
       "\n",
       "     HY_tipo  HY_antiguedad  HY_metros_utiles  HY_metros_totales  \\\n",
       "9904   Solar            NaN         1820000.0          1820000.0   \n",
       "9324   Solar            NaN          181590.0           181590.0   \n",
       "9649   Solar            NaN          144537.0           144537.0   \n",
       "9650   Solar            NaN          112717.0           112717.0   \n",
       "9648   Solar            NaN          100853.0           100853.0   \n",
       "\n",
       "      HY_num_banos  ... IDEA_unitprice_rent_residential  \\\n",
       "9904             0  ...                            3.98   \n",
       "9324             0  ...                            5.54   \n",
       "9649             0  ...                             NaN   \n",
       "9650             0  ...                             NaN   \n",
       "9648             0  ...                             NaN   \n",
       "\n",
       "      IDEA_price_rent_residential  IDEA_stock_rent_residential  \\\n",
       "9904                       331.08                          9.0   \n",
       "9324                       481.25                         27.0   \n",
       "9649                          NaN                          NaN   \n",
       "9650                          NaN                          NaN   \n",
       "9648                          NaN                          NaN   \n",
       "\n",
       "      IDEA_demand_rent_residential  GA_page_views  GA_mean_bounce  \\\n",
       "9904                         51.10             27           22.50   \n",
       "9324                         52.07             22            0.00   \n",
       "9649                          0.00              4           66.67   \n",
       "9650                          0.00              3           50.00   \n",
       "9648                          0.00              5           50.00   \n",
       "\n",
       "      GA_exit_rate  GA_quincena_ini  GA_quincena_ult  TARGET  \n",
       "9904         13.89               39               42  166.80  \n",
       "9324         24.85               35               47   43.07  \n",
       "9649         50.00               37               43   12.33  \n",
       "9650         50.00               37               38   41.50  \n",
       "9648         33.33               37               40   67.00  \n",
       "\n",
       "[5 rows x 53 columns]"
      ]
     },
     "metadata": {},
     "output_type": "display_data"
    }
   ],
   "source": [
    "metros = 1000000\n",
    "df_metros_utiles_mayor_que = df_modelar[df_modelar['HY_metros_utiles'] > metros]\n",
    "print(\">\", metros, \":\", df_metros_utiles_mayor_que['HY_id'].count())\n",
    "display(df_metros_utiles_mayor_que)\n",
    "display(df_modelar.sort_values(by=['HY_metros_utiles'], ascending=False).head())"
   ]
  },
  {
   "cell_type": "code",
   "execution_count": 44,
   "metadata": {},
   "outputs": [],
   "source": [
    "# Metros totales (HY_metros_totales)\n",
    "\n",
    "# Filas sin metros totales: 34"
   ]
  },
  {
   "cell_type": "code",
   "execution_count": 45,
   "metadata": {},
   "outputs": [
    {
     "data": {
      "text/plain": [
       "0     35.00\n",
       "1    151.98\n",
       "2    102.78\n",
       "3     12.46\n",
       "4     15.43\n",
       "Name: HY_metros_totales, dtype: float64"
      ]
     },
     "execution_count": 45,
     "metadata": {},
     "output_type": "execute_result"
    }
   ],
   "source": [
    "df_modelar['HY_metros_totales'].head()"
   ]
  },
  {
   "cell_type": "code",
   "execution_count": 46,
   "metadata": {},
   "outputs": [
    {
     "data": {
      "text/plain": [
       "count    9.924000e+03\n",
       "mean     5.433917e+02\n",
       "std      1.921910e+04\n",
       "min      0.000000e+00\n",
       "25%      3.170000e+01\n",
       "50%      8.100000e+01\n",
       "75%      1.149800e+02\n",
       "max      1.820000e+06\n",
       "Name: HY_metros_totales, dtype: float64"
      ]
     },
     "execution_count": 46,
     "metadata": {},
     "output_type": "execute_result"
    }
   ],
   "source": [
    "df_modelar['HY_metros_totales'].describe()"
   ]
  },
  {
   "cell_type": "code",
   "execution_count": 47,
   "metadata": {},
   "outputs": [
    {
     "name": "stdout",
     "output_type": "stream",
     "text": [
      "Filas sin metros totales: 34\n"
     ]
    }
   ],
   "source": [
    "df_sin_metros_totales = df_modelar[df_modelar['HY_metros_totales'].isnull()]\n",
    "print(\"Filas sin metros totales:\", df_sin_metros_totales['HY_id'].count())\n",
    "#df_sin_metros_totales[['HY_id']]"
   ]
  },
  {
   "cell_type": "code",
   "execution_count": 48,
   "metadata": {},
   "outputs": [],
   "source": [
    "# Número de baños (HY_num_banos)\n",
    "\n",
    "# Todas las filas tienen número de baño"
   ]
  },
  {
   "cell_type": "code",
   "execution_count": 49,
   "metadata": {},
   "outputs": [
    {
     "data": {
      "text/plain": [
       "0    0\n",
       "1    2\n",
       "2    1\n",
       "3    0\n",
       "4    0\n",
       "Name: HY_num_banos, dtype: int64"
      ]
     },
     "execution_count": 49,
     "metadata": {},
     "output_type": "execute_result"
    }
   ],
   "source": [
    "df_modelar['HY_num_banos'].head()"
   ]
  },
  {
   "cell_type": "code",
   "execution_count": 50,
   "metadata": {},
   "outputs": [
    {
     "data": {
      "text/plain": [
       "count    9958.000000\n",
       "mean        0.819642\n",
       "std         2.913022\n",
       "min         0.000000\n",
       "25%         0.000000\n",
       "50%         1.000000\n",
       "75%         1.000000\n",
       "max        99.000000\n",
       "Name: HY_num_banos, dtype: float64"
      ]
     },
     "execution_count": 50,
     "metadata": {},
     "output_type": "execute_result"
    }
   ],
   "source": [
    "df_modelar['HY_num_banos'].describe()"
   ]
  },
  {
   "cell_type": "code",
   "execution_count": 51,
   "metadata": {},
   "outputs": [
    {
     "name": "stdout",
     "output_type": "stream",
     "text": [
      "Filas sin número de baños: 0\n"
     ]
    }
   ],
   "source": [
    "df_sin_num_banos = df_modelar[df_modelar['HY_num_banos'].isnull()]\n",
    "print(\"Filas sin número de baños:\", df_sin_num_banos['HY_id'].count())\n",
    "#df_sin_num_banos[['HY_id']]"
   ]
  },
  {
   "cell_type": "code",
   "execution_count": 52,
   "metadata": {},
   "outputs": [],
   "source": [
    "# Certificado energético (HY_cert_energ)\n",
    "\n",
    "# Filas sin certificado energético: 8300"
   ]
  },
  {
   "cell_type": "code",
   "execution_count": 53,
   "metadata": {},
   "outputs": [
    {
     "data": {
      "text/plain": [
       "0    NaN\n",
       "1    NaN\n",
       "2    NaN\n",
       "3    NaN\n",
       "4    NaN\n",
       "Name: HY_cert_energ, dtype: object"
      ]
     },
     "execution_count": 53,
     "metadata": {},
     "output_type": "execute_result"
    }
   ],
   "source": [
    "df_modelar['HY_cert_energ'].head()"
   ]
  },
  {
   "cell_type": "code",
   "execution_count": 54,
   "metadata": {},
   "outputs": [
    {
     "data": {
      "text/plain": [
       "count     1658\n",
       "unique       5\n",
       "top          E\n",
       "freq       799\n",
       "Name: HY_cert_energ, dtype: object"
      ]
     },
     "execution_count": 54,
     "metadata": {},
     "output_type": "execute_result"
    }
   ],
   "source": [
    "df_modelar['HY_cert_energ'].describe()"
   ]
  },
  {
   "cell_type": "code",
   "execution_count": 55,
   "metadata": {},
   "outputs": [
    {
     "name": "stdout",
     "output_type": "stream",
     "text": [
      "Filas sin certificado energético: 8300\n"
     ]
    }
   ],
   "source": [
    "df_sin_cert_energ = df_modelar[df_modelar['HY_cert_energ'].isnull()]\n",
    "print(\"Filas sin certificado energético:\", df_sin_cert_energ['HY_id'].count())\n",
    "#df_sin_cert_energ[['HY_id']]"
   ]
  },
  {
   "cell_type": "code",
   "execution_count": 56,
   "metadata": {},
   "outputs": [],
   "source": [
    "# Número de terrazas (HY_num_terrazas)\n",
    "\n",
    "# Filas sin número terrazas: 0"
   ]
  },
  {
   "cell_type": "code",
   "execution_count": 57,
   "metadata": {},
   "outputs": [
    {
     "data": {
      "text/plain": [
       "0    0\n",
       "1    0\n",
       "2    0\n",
       "3    0\n",
       "4    0\n",
       "Name: HY_num_terrazas, dtype: int64"
      ]
     },
     "execution_count": 57,
     "metadata": {},
     "output_type": "execute_result"
    }
   ],
   "source": [
    "df_modelar['HY_num_terrazas'].head()"
   ]
  },
  {
   "cell_type": "code",
   "execution_count": 58,
   "metadata": {},
   "outputs": [
    {
     "data": {
      "text/plain": [
       "count    9958.000000\n",
       "mean        0.019984\n",
       "std         0.185066\n",
       "min         0.000000\n",
       "25%         0.000000\n",
       "50%         0.000000\n",
       "75%         0.000000\n",
       "max        10.000000\n",
       "Name: HY_num_terrazas, dtype: float64"
      ]
     },
     "execution_count": 58,
     "metadata": {},
     "output_type": "execute_result"
    }
   ],
   "source": [
    "df_modelar['HY_num_terrazas'].describe()"
   ]
  },
  {
   "cell_type": "code",
   "execution_count": 59,
   "metadata": {},
   "outputs": [
    {
     "name": "stdout",
     "output_type": "stream",
     "text": [
      "Filas sin número terrazas: 0\n"
     ]
    }
   ],
   "source": [
    "df_sin_num_terrazas = df_modelar[df_modelar['HY_num_terrazas'].isnull()]\n",
    "print(\"Filas sin número terrazas:\", df_sin_num_terrazas['HY_id'].count())\n",
    "#df_sin_num_terrazas[['HY_id']]"
   ]
  },
  {
   "cell_type": "code",
   "execution_count": 60,
   "metadata": {},
   "outputs": [],
   "source": [
    "# Ascensor (HY_ascensor)\n",
    "\n",
    "# Filas sin ascensor: 0"
   ]
  },
  {
   "cell_type": "code",
   "execution_count": 61,
   "metadata": {},
   "outputs": [
    {
     "data": {
      "text/plain": [
       "0    0\n",
       "1    0\n",
       "2    1\n",
       "3    1\n",
       "4    1\n",
       "Name: HY_ascensor, dtype: int64"
      ]
     },
     "execution_count": 61,
     "metadata": {},
     "output_type": "execute_result"
    }
   ],
   "source": [
    "df_modelar['HY_ascensor'].head()"
   ]
  },
  {
   "cell_type": "code",
   "execution_count": 62,
   "metadata": {},
   "outputs": [
    {
     "data": {
      "text/plain": [
       "count    9958.000000\n",
       "mean        0.270436\n",
       "std         0.444207\n",
       "min         0.000000\n",
       "25%         0.000000\n",
       "50%         0.000000\n",
       "75%         1.000000\n",
       "max         1.000000\n",
       "Name: HY_ascensor, dtype: float64"
      ]
     },
     "execution_count": 62,
     "metadata": {},
     "output_type": "execute_result"
    }
   ],
   "source": [
    "df_modelar['HY_ascensor'].describe()"
   ]
  },
  {
   "cell_type": "code",
   "execution_count": 63,
   "metadata": {},
   "outputs": [
    {
     "name": "stdout",
     "output_type": "stream",
     "text": [
      "Filas sin ascensor: 0\n"
     ]
    }
   ],
   "source": [
    "df_sin_ascensor = df_modelar[df_modelar['HY_ascensor'].isnull()]\n",
    "print(\"Filas sin ascensor:\", df_sin_ascensor['HY_id'].count())\n",
    "#df_sin_ascensor[['HY_id']]"
   ]
  },
  {
   "cell_type": "code",
   "execution_count": 64,
   "metadata": {},
   "outputs": [],
   "source": [
    "# Trastero (HY_trastero)\n",
    "\n",
    "# Filas sin trastero: 0"
   ]
  },
  {
   "cell_type": "code",
   "execution_count": 65,
   "metadata": {},
   "outputs": [
    {
     "data": {
      "text/plain": [
       "0    0\n",
       "1    0\n",
       "2    0\n",
       "3    0\n",
       "4    0\n",
       "Name: HY_trastero, dtype: int64"
      ]
     },
     "execution_count": 65,
     "metadata": {},
     "output_type": "execute_result"
    }
   ],
   "source": [
    "df_modelar['HY_trastero'].head()"
   ]
  },
  {
   "cell_type": "code",
   "execution_count": 66,
   "metadata": {},
   "outputs": [
    {
     "data": {
      "text/plain": [
       "count    9958.000000\n",
       "mean        0.062161\n",
       "std         0.241460\n",
       "min         0.000000\n",
       "25%         0.000000\n",
       "50%         0.000000\n",
       "75%         0.000000\n",
       "max         1.000000\n",
       "Name: HY_trastero, dtype: float64"
      ]
     },
     "execution_count": 66,
     "metadata": {},
     "output_type": "execute_result"
    }
   ],
   "source": [
    "df_modelar['HY_trastero'].describe()"
   ]
  },
  {
   "cell_type": "code",
   "execution_count": 67,
   "metadata": {},
   "outputs": [
    {
     "name": "stdout",
     "output_type": "stream",
     "text": [
      "Filas sin trastero: 0\n"
     ]
    }
   ],
   "source": [
    "df_sin_trastero = df_modelar[df_modelar['HY_trastero'].isnull()]\n",
    "print(\"Filas sin trastero:\", df_sin_trastero['HY_id'].count())\n",
    "#df_sin_trastero[['HY_id']]"
   ]
  },
  {
   "cell_type": "code",
   "execution_count": 68,
   "metadata": {},
   "outputs": [],
   "source": [
    "# Número de garajes (HY_num_garajes)\n",
    "\n",
    "# Filas sin trastero: 0"
   ]
  },
  {
   "cell_type": "code",
   "execution_count": 69,
   "metadata": {},
   "outputs": [
    {
     "data": {
      "text/plain": [
       "0    0\n",
       "1    0\n",
       "2    1\n",
       "3    0\n",
       "4    0\n",
       "Name: HY_num_garajes, dtype: int64"
      ]
     },
     "execution_count": 69,
     "metadata": {},
     "output_type": "execute_result"
    }
   ],
   "source": [
    "df_modelar['HY_num_garajes'].head()"
   ]
  },
  {
   "cell_type": "code",
   "execution_count": 70,
   "metadata": {},
   "outputs": [
    {
     "data": {
      "text/plain": [
       "count    9958.000000\n",
       "mean        0.097007\n",
       "std         0.297337\n",
       "min         0.000000\n",
       "25%         0.000000\n",
       "50%         0.000000\n",
       "75%         0.000000\n",
       "max         2.000000\n",
       "Name: HY_num_garajes, dtype: float64"
      ]
     },
     "execution_count": 70,
     "metadata": {},
     "output_type": "execute_result"
    }
   ],
   "source": [
    "df_modelar['HY_num_garajes'].describe()"
   ]
  },
  {
   "cell_type": "code",
   "execution_count": 71,
   "metadata": {},
   "outputs": [
    {
     "name": "stdout",
     "output_type": "stream",
     "text": [
      "Filas sin garaje: 0\n"
     ]
    }
   ],
   "source": [
    "df_sin_garaje = df_modelar[df_modelar['HY_num_garajes'].isnull()]\n",
    "print(\"Filas sin garaje:\", df_sin_garaje['HY_id'].count())\n",
    "#df_sin_garaje[['HY_id']]"
   ]
  },
  {
   "cell_type": "code",
   "execution_count": 72,
   "metadata": {},
   "outputs": [],
   "source": [
    "# Precio de venta (HY_precio)\n",
    "\n",
    "# Filas sin precio: 0"
   ]
  },
  {
   "cell_type": "code",
   "execution_count": 73,
   "metadata": {},
   "outputs": [
    {
     "data": {
      "text/plain": [
       "0     12300.0\n",
       "1    115000.0\n",
       "2     88000.0\n",
       "3      5800.0\n",
       "4      7400.0\n",
       "Name: HY_precio, dtype: float64"
      ]
     },
     "execution_count": 73,
     "metadata": {},
     "output_type": "execute_result"
    }
   ],
   "source": [
    "df_modelar['HY_precio'].head()"
   ]
  },
  {
   "cell_type": "code",
   "execution_count": 74,
   "metadata": {},
   "outputs": [
    {
     "data": {
      "text/plain": [
       "count    9.958000e+03\n",
       "mean     7.672430e+04\n",
       "std      1.634361e+05\n",
       "min      0.000000e+00\n",
       "25%      1.050000e+04\n",
       "50%      5.970000e+04\n",
       "75%      9.170000e+04\n",
       "max      1.040000e+07\n",
       "Name: HY_precio, dtype: float64"
      ]
     },
     "execution_count": 74,
     "metadata": {},
     "output_type": "execute_result"
    }
   ],
   "source": [
    "df_modelar['HY_precio'].describe()"
   ]
  },
  {
   "cell_type": "code",
   "execution_count": 75,
   "metadata": {},
   "outputs": [
    {
     "name": "stdout",
     "output_type": "stream",
     "text": [
      "Filas sin precio: 0\n"
     ]
    }
   ],
   "source": [
    "df_sin_precio = df_modelar[df_modelar['HY_precio'].isnull()]\n",
    "print(\"Filas sin precio:\", df_sin_precio['HY_id'].count())\n",
    "#df_sin_precio[['HY_id']]"
   ]
  },
  {
   "cell_type": "code",
   "execution_count": 76,
   "metadata": {},
   "outputs": [],
   "source": [
    "# Precio de venta anterior (HY_precio_anterior)\n",
    "\n",
    "# Filas sin precio anterior: 3158\n",
    "# Algunos precios raros (1 €)"
   ]
  },
  {
   "cell_type": "code",
   "execution_count": 77,
   "metadata": {},
   "outputs": [
    {
     "data": {
      "text/plain": [
       "0         NaN\n",
       "1    125000.0\n",
       "2     93500.0\n",
       "3         NaN\n",
       "4         NaN\n",
       "Name: HY_precio_anterior, dtype: float64"
      ]
     },
     "execution_count": 77,
     "metadata": {},
     "output_type": "execute_result"
    }
   ],
   "source": [
    "df_modelar['HY_precio_anterior'].head()"
   ]
  },
  {
   "cell_type": "code",
   "execution_count": 78,
   "metadata": {},
   "outputs": [
    {
     "data": {
      "text/plain": [
       "count    6.800000e+03\n",
       "mean     8.939254e+04\n",
       "std      4.314146e+05\n",
       "min      1.000000e+00\n",
       "25%      1.230000e+04\n",
       "50%      6.410000e+04\n",
       "75%      9.710000e+04\n",
       "max      3.083310e+07\n",
       "Name: HY_precio_anterior, dtype: float64"
      ]
     },
     "execution_count": 78,
     "metadata": {},
     "output_type": "execute_result"
    }
   ],
   "source": [
    "df_modelar['HY_precio_anterior'].describe()"
   ]
  },
  {
   "cell_type": "code",
   "execution_count": 79,
   "metadata": {},
   "outputs": [
    {
     "name": "stdout",
     "output_type": "stream",
     "text": [
      "Filas sin precio anterior: 3158\n"
     ]
    }
   ],
   "source": [
    "df_sin_precio_anterior = df_modelar[df_modelar['HY_precio_anterior'].isnull()]\n",
    "print(\"Filas sin precio anterior:\", df_sin_precio_anterior['HY_id'].count())\n",
    "#df_sin_precio_anterior[['HY_id']]"
   ]
  },
  {
   "cell_type": "code",
   "execution_count": 80,
   "metadata": {},
   "outputs": [],
   "source": [
    "# Idea Area m^2 (IDEA_area)\n",
    "\n",
    "# Filas sin area: 2631"
   ]
  },
  {
   "cell_type": "code",
   "execution_count": 81,
   "metadata": {},
   "outputs": [
    {
     "data": {
      "text/plain": [
       "0     670.87\n",
       "1    2216.24\n",
       "2    2040.53\n",
       "3     905.44\n",
       "4     905.44\n",
       "Name: IDEA_area, dtype: float64"
      ]
     },
     "execution_count": 81,
     "metadata": {},
     "output_type": "execute_result"
    }
   ],
   "source": [
    "df_modelar['IDEA_area'].head()"
   ]
  },
  {
   "cell_type": "code",
   "execution_count": 82,
   "metadata": {},
   "outputs": [
    {
     "data": {
      "text/plain": [
       "count      7327.000000\n",
       "mean       5128.812502\n",
       "std       10660.457211\n",
       "min           6.840000\n",
       "25%         285.700000\n",
       "50%        1391.520000\n",
       "75%        4725.930000\n",
       "max      107512.650000\n",
       "Name: IDEA_area, dtype: float64"
      ]
     },
     "execution_count": 82,
     "metadata": {},
     "output_type": "execute_result"
    }
   ],
   "source": [
    "df_modelar['IDEA_area'].describe()"
   ]
  },
  {
   "cell_type": "code",
   "execution_count": 83,
   "metadata": {},
   "outputs": [
    {
     "name": "stdout",
     "output_type": "stream",
     "text": [
      "Filas sin area: 2631\n"
     ]
    }
   ],
   "source": [
    "df_sin_i_area = df_modelar[df_modelar['IDEA_area'].isnull()]\n",
    "print(\"Filas sin area:\", df_sin_i_area['HY_id'].count())\n",
    "#df_sin_i_area[['HY_id']]"
   ]
  },
  {
   "cell_type": "code",
   "execution_count": 84,
   "metadata": {},
   "outputs": [],
   "source": [
    "# Idea población (IDEA_poblacion)\n",
    "\n",
    "# Filas sin población: 2635\n",
    "# Minimo: 1 (es raro)"
   ]
  },
  {
   "cell_type": "code",
   "execution_count": 85,
   "metadata": {},
   "outputs": [
    {
     "data": {
      "text/plain": [
       "0    13372.0\n",
       "1     1507.0\n",
       "2     5810.0\n",
       "3     7004.0\n",
       "4     7004.0\n",
       "Name: IDEA_poblacion, dtype: float64"
      ]
     },
     "execution_count": 85,
     "metadata": {},
     "output_type": "execute_result"
    }
   ],
   "source": [
    "df_modelar['IDEA_poblacion'].head()"
   ]
  },
  {
   "cell_type": "code",
   "execution_count": 86,
   "metadata": {},
   "outputs": [
    {
     "data": {
      "text/plain": [
       "count     7323.000000\n",
       "mean     10139.938004\n",
       "std       8507.308312\n",
       "min          1.000000\n",
       "25%       3430.000000\n",
       "50%       7693.000000\n",
       "75%      14999.000000\n",
       "max      54589.000000\n",
       "Name: IDEA_poblacion, dtype: float64"
      ]
     },
     "execution_count": 86,
     "metadata": {},
     "output_type": "execute_result"
    }
   ],
   "source": [
    "df_modelar['IDEA_poblacion'].describe()"
   ]
  },
  {
   "cell_type": "code",
   "execution_count": 87,
   "metadata": {},
   "outputs": [
    {
     "name": "stdout",
     "output_type": "stream",
     "text": [
      "Filas sin población: 2635\n"
     ]
    }
   ],
   "source": [
    "df_sin_i_poblacion = df_modelar[df_modelar['IDEA_poblacion'].isnull()]\n",
    "print(\"Filas sin población:\", df_sin_i_poblacion['HY_id'].count())\n",
    "#df_sin_i_poblacion[['HY_id']]"
   ]
  },
  {
   "cell_type": "code",
   "execution_count": 88,
   "metadata": {},
   "outputs": [],
   "source": [
    "# Idea densidad población (IDEA_densidad)\n",
    "\n",
    "# Filas sin densidad: 2635"
   ]
  },
  {
   "cell_type": "code",
   "execution_count": 89,
   "metadata": {},
   "outputs": [
    {
     "data": {
      "text/plain": [
       "0    19.93\n",
       "1     0.68\n",
       "2     2.85\n",
       "3     7.74\n",
       "4     7.74\n",
       "Name: IDEA_densidad, dtype: float64"
      ]
     },
     "execution_count": 89,
     "metadata": {},
     "output_type": "execute_result"
    }
   ],
   "source": [
    "df_modelar['IDEA_densidad'].head()"
   ]
  },
  {
   "cell_type": "code",
   "execution_count": 90,
   "metadata": {},
   "outputs": [
    {
     "data": {
      "text/plain": [
       "count    7323.000000\n",
       "mean       34.918585\n",
       "std        71.559554\n",
       "min         0.010000\n",
       "25%         1.040000\n",
       "50%         4.520000\n",
       "75%        25.130000\n",
       "max       526.030000\n",
       "Name: IDEA_densidad, dtype: float64"
      ]
     },
     "execution_count": 90,
     "metadata": {},
     "output_type": "execute_result"
    }
   ],
   "source": [
    "df_modelar['IDEA_densidad'].describe()"
   ]
  },
  {
   "cell_type": "code",
   "execution_count": 91,
   "metadata": {},
   "outputs": [
    {
     "name": "stdout",
     "output_type": "stream",
     "text": [
      "Filas sin densidad: 2635\n"
     ]
    }
   ],
   "source": [
    "df_sin_i_densidad = df_modelar[df_modelar['IDEA_densidad'].isnull()]\n",
    "print(\"Filas sin densidad:\", df_sin_i_densidad['HY_id'].count())\n",
    "#df_sin_i_densidad[['HY_id']]"
   ]
  },
  {
   "cell_type": "code",
   "execution_count": 92,
   "metadata": {},
   "outputs": [],
   "source": [
    "# % de inmbuebles construidos antes de 1960 (IDEA_pc_1960)\n",
    "\n",
    "# Las sumas de todos los pc puede no dar 1: min ~0.5 / max > 1"
   ]
  },
  {
   "cell_type": "code",
   "execution_count": 93,
   "metadata": {},
   "outputs": [
    {
     "data": {
      "text/plain": [
       "0    0.00\n",
       "1    0.12\n",
       "2    0.15\n",
       "3    0.07\n",
       "4    0.07\n",
       "Name: IDEA_pc_1960, dtype: float64"
      ]
     },
     "execution_count": 93,
     "metadata": {},
     "output_type": "execute_result"
    }
   ],
   "source": [
    "df_modelar['IDEA_pc_1960'].head()"
   ]
  },
  {
   "cell_type": "code",
   "execution_count": 94,
   "metadata": {},
   "outputs": [
    {
     "data": {
      "text/plain": [
       "count    7248.000000\n",
       "mean        0.114331\n",
       "std         0.093050\n",
       "min         0.000000\n",
       "25%         0.040000\n",
       "50%         0.100000\n",
       "75%         0.170000\n",
       "max         0.480000\n",
       "Name: IDEA_pc_1960, dtype: float64"
      ]
     },
     "execution_count": 94,
     "metadata": {},
     "output_type": "execute_result"
    }
   ],
   "source": [
    "df_modelar['IDEA_pc_1960'].describe()"
   ]
  },
  {
   "cell_type": "code",
   "execution_count": 95,
   "metadata": {},
   "outputs": [],
   "source": [
    "# % de inmbuebles construidos entre 1960 - 1969 (IDEA_pc_1960_69)"
   ]
  },
  {
   "cell_type": "code",
   "execution_count": 96,
   "metadata": {},
   "outputs": [
    {
     "data": {
      "text/plain": [
       "0    0.00\n",
       "1    0.12\n",
       "2    0.15\n",
       "3    0.07\n",
       "4    0.07\n",
       "Name: IDEA_pc_1960_69, dtype: float64"
      ]
     },
     "execution_count": 96,
     "metadata": {},
     "output_type": "execute_result"
    }
   ],
   "source": [
    "df_modelar['IDEA_pc_1960_69'].head()"
   ]
  },
  {
   "cell_type": "code",
   "execution_count": 97,
   "metadata": {},
   "outputs": [
    {
     "data": {
      "text/plain": [
       "count    7248.000000\n",
       "mean        0.114331\n",
       "std         0.093050\n",
       "min         0.000000\n",
       "25%         0.040000\n",
       "50%         0.100000\n",
       "75%         0.170000\n",
       "max         0.480000\n",
       "Name: IDEA_pc_1960_69, dtype: float64"
      ]
     },
     "execution_count": 97,
     "metadata": {},
     "output_type": "execute_result"
    }
   ],
   "source": [
    "df_modelar['IDEA_pc_1960_69'].describe()"
   ]
  },
  {
   "cell_type": "code",
   "execution_count": 98,
   "metadata": {},
   "outputs": [],
   "source": [
    "# % de inmbuebles construidos entre 1970 - 1979 (IDEA_pc_1970_79)"
   ]
  },
  {
   "cell_type": "code",
   "execution_count": 99,
   "metadata": {},
   "outputs": [
    {
     "data": {
      "text/plain": [
       "0    0.00\n",
       "1    0.18\n",
       "2    0.12\n",
       "3    0.04\n",
       "4    0.04\n",
       "Name: IDEA_pc_1970_79, dtype: float64"
      ]
     },
     "execution_count": 99,
     "metadata": {},
     "output_type": "execute_result"
    }
   ],
   "source": [
    "df_modelar['IDEA_pc_1970_79'].head()"
   ]
  },
  {
   "cell_type": "code",
   "execution_count": 100,
   "metadata": {},
   "outputs": [
    {
     "data": {
      "text/plain": [
       "count    7248.000000\n",
       "mean        0.159658\n",
       "std         0.109443\n",
       "min         0.000000\n",
       "25%         0.090000\n",
       "50%         0.140000\n",
       "75%         0.210000\n",
       "max         0.990000\n",
       "Name: IDEA_pc_1970_79, dtype: float64"
      ]
     },
     "execution_count": 100,
     "metadata": {},
     "output_type": "execute_result"
    }
   ],
   "source": [
    "df_modelar['IDEA_pc_1970_79'].describe()"
   ]
  },
  {
   "cell_type": "code",
   "execution_count": 101,
   "metadata": {},
   "outputs": [],
   "source": [
    "# % de inmbuebles construidos entre 1980 - 1989 (IDEA_pc_1980_89)"
   ]
  },
  {
   "cell_type": "code",
   "execution_count": 102,
   "metadata": {},
   "outputs": [
    {
     "data": {
      "text/plain": [
       "0    0.27\n",
       "1    0.18\n",
       "2    0.10\n",
       "3    0.04\n",
       "4    0.04\n",
       "Name: IDEA_pc_1980_89, dtype: float64"
      ]
     },
     "execution_count": 102,
     "metadata": {},
     "output_type": "execute_result"
    }
   ],
   "source": [
    "df_modelar['IDEA_pc_1980_89'].head()"
   ]
  },
  {
   "cell_type": "code",
   "execution_count": 103,
   "metadata": {},
   "outputs": [
    {
     "data": {
      "text/plain": [
       "count    7248.000000\n",
       "mean        0.132972\n",
       "std         0.072701\n",
       "min         0.000000\n",
       "25%         0.090000\n",
       "50%         0.120000\n",
       "75%         0.160000\n",
       "max         0.940000\n",
       "Name: IDEA_pc_1980_89, dtype: float64"
      ]
     },
     "execution_count": 103,
     "metadata": {},
     "output_type": "execute_result"
    }
   ],
   "source": [
    "df_modelar['IDEA_pc_1980_89'].describe()"
   ]
  },
  {
   "cell_type": "code",
   "execution_count": 104,
   "metadata": {},
   "outputs": [],
   "source": [
    "# % de inmbuebles construidos entre 1990 - 1999 (IDEA_pc_1990_99)"
   ]
  },
  {
   "cell_type": "code",
   "execution_count": 105,
   "metadata": {},
   "outputs": [
    {
     "data": {
      "text/plain": [
       "0    0.31\n",
       "1    0.18\n",
       "2    0.11\n",
       "3    0.17\n",
       "4    0.17\n",
       "Name: IDEA_pc_1990_99, dtype: float64"
      ]
     },
     "execution_count": 105,
     "metadata": {},
     "output_type": "execute_result"
    }
   ],
   "source": [
    "df_modelar['IDEA_pc_1990_99'].head()"
   ]
  },
  {
   "cell_type": "code",
   "execution_count": 106,
   "metadata": {},
   "outputs": [
    {
     "data": {
      "text/plain": [
       "count    7248.000000\n",
       "mean        0.149433\n",
       "std         0.074602\n",
       "min         0.000000\n",
       "25%         0.100000\n",
       "50%         0.140000\n",
       "75%         0.180000\n",
       "max         0.800000\n",
       "Name: IDEA_pc_1990_99, dtype: float64"
      ]
     },
     "execution_count": 106,
     "metadata": {},
     "output_type": "execute_result"
    }
   ],
   "source": [
    "df_modelar['IDEA_pc_1990_99'].describe()"
   ]
  },
  {
   "cell_type": "code",
   "execution_count": 107,
   "metadata": {},
   "outputs": [],
   "source": [
    "# % de inmbuebles construidos entre 2000 - 2010 (IDEA_pc_2000_10)"
   ]
  },
  {
   "cell_type": "code",
   "execution_count": 108,
   "metadata": {},
   "outputs": [
    {
     "data": {
      "text/plain": [
       "0    0.41\n",
       "1    0.22\n",
       "2    0.36\n",
       "3    0.62\n",
       "4    0.62\n",
       "Name: IDEA_pc_2000_10, dtype: float64"
      ]
     },
     "execution_count": 108,
     "metadata": {},
     "output_type": "execute_result"
    }
   ],
   "source": [
    "df_modelar['IDEA_pc_2000_10'].head()"
   ]
  },
  {
   "cell_type": "code",
   "execution_count": 109,
   "metadata": {},
   "outputs": [
    {
     "data": {
      "text/plain": [
       "count    7248.000000\n",
       "mean        0.328667\n",
       "std         0.182306\n",
       "min         0.000000\n",
       "25%         0.190000\n",
       "50%         0.300000\n",
       "75%         0.450000\n",
       "max         1.000000\n",
       "Name: IDEA_pc_2000_10, dtype: float64"
      ]
     },
     "execution_count": 109,
     "metadata": {},
     "output_type": "execute_result"
    }
   ],
   "source": [
    "df_modelar['IDEA_pc_2000_10'].describe()"
   ]
  },
  {
   "cell_type": "code",
   "execution_count": 110,
   "metadata": {},
   "outputs": [
    {
     "data": {
      "text/plain": [
       "True"
      ]
     },
     "metadata": {},
     "output_type": "display_data"
    },
    {
     "data": {
      "text/plain": [
       "True"
      ]
     },
     "metadata": {},
     "output_type": "display_data"
    },
    {
     "data": {
      "text/plain": [
       "True"
      ]
     },
     "metadata": {},
     "output_type": "display_data"
    },
    {
     "data": {
      "text/plain": [
       "True"
      ]
     },
     "metadata": {},
     "output_type": "display_data"
    },
    {
     "data": {
      "text/plain": [
       "True"
      ]
     },
     "metadata": {},
     "output_type": "display_data"
    }
   ],
   "source": [
    "display(set(df_modelar[df_modelar['IDEA_pc_1960'].notnull()]['HY_id']) == set(df_modelar[df_modelar['IDEA_pc_1960_69'].notnull()]['HY_id']))\n",
    "display(set(df_modelar[df_modelar['IDEA_pc_1960_69'].notnull()]['HY_id']) == set(df_modelar[df_modelar['IDEA_pc_1970_79'].notnull()]['HY_id']))\n",
    "display(set(df_modelar[df_modelar['IDEA_pc_1970_79'].notnull()]['HY_id']) == set(df_modelar[df_modelar['IDEA_pc_1980_89'].notnull()]['HY_id']))\n",
    "display(set(df_modelar[df_modelar['IDEA_pc_1980_89'].notnull()]['HY_id']) == set(df_modelar[df_modelar['IDEA_pc_1990_99'].notnull()]['HY_id']))\n",
    "display(set(df_modelar[df_modelar['IDEA_pc_1990_99'].notnull()]['HY_id']) == set(df_modelar[df_modelar['IDEA_pc_2000_10'].notnull()]['HY_id']))"
   ]
  },
  {
   "cell_type": "code",
   "execution_count": 111,
   "metadata": {},
   "outputs": [
    {
     "data": {
      "text/plain": [
       "0    0.99\n",
       "1    1.00\n",
       "2    0.99\n",
       "3    1.01\n",
       "4    1.01\n",
       "dtype: float64"
      ]
     },
     "execution_count": 111,
     "metadata": {},
     "output_type": "execute_result"
    }
   ],
   "source": [
    "suma_IDEA_pc = df_modelar['IDEA_pc_1960'] + df_modelar['IDEA_pc_1960_69'] + df_modelar['IDEA_pc_1970_79'] + df_modelar['IDEA_pc_1980_89'] + df_modelar['IDEA_pc_1990_99'] + df_modelar['IDEA_pc_2000_10']\n",
    "suma_IDEA_pc.head()"
   ]
  },
  {
   "cell_type": "code",
   "execution_count": 112,
   "metadata": {},
   "outputs": [
    {
     "data": {
      "text/plain": [
       "Series([], dtype: float64)"
      ]
     },
     "execution_count": 112,
     "metadata": {},
     "output_type": "execute_result"
    }
   ],
   "source": [
    "suma_IDEA_pc[suma_IDEA_pc < 0.6]"
   ]
  },
  {
   "cell_type": "code",
   "execution_count": 113,
   "metadata": {},
   "outputs": [
    {
     "data": {
      "text/plain": [
       "HY_id                                                                        6029190\n",
       "HY_cod_postal                                                                  46600\n",
       "HY_provincia                                                                Valencia\n",
       "HY_descripcion                     Piso de tres dormitorios y un baño, ubicado en...\n",
       "HY_distribucion                    La vivienda está distribuida en tres dormitori...\n",
       "HY_tipo                                                                         Piso\n",
       "HY_antiguedad                                                                   1964\n",
       "HY_metros_utiles                                                               72.19\n",
       "HY_metros_totales                                                              83.01\n",
       "HY_num_banos                                                                       1\n",
       "HY_cert_energ                                                                      G\n",
       "HY_num_terrazas                                                                    1\n",
       "HY_ascensor                                                                        0\n",
       "HY_trastero                                                                        0\n",
       "HY_num_garajes                                                                     0\n",
       "HY_precio                                                                      25400\n",
       "HY_precio_anterior                                                             27900\n",
       "IDEA_area                                                                      14.17\n",
       "IDEA_poblacion                                                                   760\n",
       "IDEA_densidad                                                                  53.63\n",
       "IDEA_pc_1960                                                                    0.41\n",
       "IDEA_pc_1960_69                                                                 0.41\n",
       "IDEA_pc_1970_79                                                                 0.08\n",
       "IDEA_pc_1980_89                                                                 0.05\n",
       "IDEA_pc_1990_99                                                                 0.02\n",
       "IDEA_pc_2000_10                                                                 0.02\n",
       "IDEA_pc_comercio                                                                0.02\n",
       "IDEA_pc_industria                                                                  0\n",
       "IDEA_pc_oficina                                                                    0\n",
       "IDEA_pc_otros                                                                   0.04\n",
       "IDEA_pc_residencial                                                             0.51\n",
       "IDEA_pc_trast_parking                                                           0.43\n",
       "IDEA_ind_tienda                                                                    1\n",
       "IDEA_ind_turismo                                                                   0\n",
       "IDEA_ind_alimentacion                                                              0\n",
       "IDEA_ind_riqueza                                                                0.15\n",
       "IDEA_rent_alquiler                                                              9.17\n",
       "IDEA_ind_elasticidad                                                             NaN\n",
       "IDEA_ind_liquidez                                                                NaN\n",
       "IDEA_unitprice_sale_residential                                               526.42\n",
       "IDEA_price_sale_residential                                                  63785.6\n",
       "IDEA_stock_sale_residential                                                      213\n",
       "IDEA_demand_sale_residential                                                   49.27\n",
       "IDEA_unitprice_rent_residential                                                 5.17\n",
       "IDEA_price_rent_residential                                                      450\n",
       "IDEA_stock_rent_residential                                                        3\n",
       "IDEA_demand_rent_residential                                                   50.69\n",
       "GA_page_views                                                                   1053\n",
       "GA_mean_bounce                                                                 18.02\n",
       "GA_exit_rate                                                                     6.6\n",
       "GA_quincena_ini                                                                    1\n",
       "GA_quincena_ult                                                                   47\n",
       "TARGET                                                                         31.61\n",
       "Name: 134, dtype: object"
      ]
     },
     "execution_count": 113,
     "metadata": {},
     "output_type": "execute_result"
    }
   ],
   "source": [
    "df_modelar.iloc[134,:]"
   ]
  },
  {
   "cell_type": "code",
   "execution_count": 114,
   "metadata": {},
   "outputs": [],
   "source": [
    "# % de inmuebles en la zona que son de uso comercial (IDEA_pc_comercio)"
   ]
  },
  {
   "cell_type": "code",
   "execution_count": 115,
   "metadata": {},
   "outputs": [
    {
     "data": {
      "text/plain": [
       "0    0.01\n",
       "1    0.02\n",
       "2    0.03\n",
       "3    0.01\n",
       "4    0.01\n",
       "Name: IDEA_pc_comercio, dtype: float64"
      ]
     },
     "execution_count": 115,
     "metadata": {},
     "output_type": "execute_result"
    }
   ],
   "source": [
    "df_modelar['IDEA_pc_comercio'].head()"
   ]
  },
  {
   "cell_type": "code",
   "execution_count": 116,
   "metadata": {},
   "outputs": [
    {
     "data": {
      "text/plain": [
       "count    7248.000000\n",
       "mean        0.021454\n",
       "std         0.016444\n",
       "min         0.000000\n",
       "25%         0.010000\n",
       "50%         0.020000\n",
       "75%         0.030000\n",
       "max         0.170000\n",
       "Name: IDEA_pc_comercio, dtype: float64"
      ]
     },
     "execution_count": 116,
     "metadata": {},
     "output_type": "execute_result"
    }
   ],
   "source": [
    "df_modelar['IDEA_pc_comercio'].describe()"
   ]
  },
  {
   "cell_type": "code",
   "execution_count": 117,
   "metadata": {},
   "outputs": [],
   "source": [
    "# % de inmuebles en la zona que son de uso industrial (IDEA_pc_industria)"
   ]
  },
  {
   "cell_type": "code",
   "execution_count": 118,
   "metadata": {},
   "outputs": [
    {
     "data": {
      "text/plain": [
       "0    0.00\n",
       "1    0.00\n",
       "2    0.05\n",
       "3    0.01\n",
       "4    0.01\n",
       "Name: IDEA_pc_industria, dtype: float64"
      ]
     },
     "execution_count": 118,
     "metadata": {},
     "output_type": "execute_result"
    }
   ],
   "source": [
    "df_modelar['IDEA_pc_industria'].head()"
   ]
  },
  {
   "cell_type": "code",
   "execution_count": 119,
   "metadata": {},
   "outputs": [
    {
     "data": {
      "text/plain": [
       "count    7248.000000\n",
       "mean        0.007529\n",
       "std         0.013751\n",
       "min         0.000000\n",
       "25%         0.000000\n",
       "50%         0.000000\n",
       "75%         0.010000\n",
       "max         0.230000\n",
       "Name: IDEA_pc_industria, dtype: float64"
      ]
     },
     "execution_count": 119,
     "metadata": {},
     "output_type": "execute_result"
    }
   ],
   "source": [
    "df_modelar['IDEA_pc_industria'].describe()"
   ]
  },
  {
   "cell_type": "code",
   "execution_count": 120,
   "metadata": {},
   "outputs": [],
   "source": [
    "# % de inmuebles en la zona que son de uso de oficina (IDEA_pc_oficina)"
   ]
  },
  {
   "cell_type": "code",
   "execution_count": 121,
   "metadata": {},
   "outputs": [
    {
     "data": {
      "text/plain": [
       "0    0.0\n",
       "1    0.0\n",
       "2    0.0\n",
       "3    0.0\n",
       "4    0.0\n",
       "Name: IDEA_pc_oficina, dtype: float64"
      ]
     },
     "execution_count": 121,
     "metadata": {},
     "output_type": "execute_result"
    }
   ],
   "source": [
    "df_modelar['IDEA_pc_oficina'].head()"
   ]
  },
  {
   "cell_type": "code",
   "execution_count": 122,
   "metadata": {},
   "outputs": [
    {
     "data": {
      "text/plain": [
       "count    7248.000000\n",
       "mean        0.007345\n",
       "std         0.011161\n",
       "min         0.000000\n",
       "25%         0.000000\n",
       "50%         0.010000\n",
       "75%         0.010000\n",
       "max         0.220000\n",
       "Name: IDEA_pc_oficina, dtype: float64"
      ]
     },
     "execution_count": 122,
     "metadata": {},
     "output_type": "execute_result"
    }
   ],
   "source": [
    "df_modelar['IDEA_pc_oficina'].describe()"
   ]
  },
  {
   "cell_type": "code",
   "execution_count": 123,
   "metadata": {},
   "outputs": [
    {
     "data": {
      "text/plain": [
       "count    7248.000000\n",
       "mean        0.007345\n",
       "std         0.011161\n",
       "min         0.000000\n",
       "25%         0.000000\n",
       "50%         0.010000\n",
       "75%         0.010000\n",
       "max         0.220000\n",
       "Name: IDEA_pc_oficina, dtype: float64"
      ]
     },
     "execution_count": 123,
     "metadata": {},
     "output_type": "execute_result"
    }
   ],
   "source": [
    "# % de inmuebles en la zona que son de uso de oficina (IDEA_pc_oficina)\n",
    "df_modelar['IDEA_pc_oficina'].head()\n",
    "df_modelar['IDEA_pc_oficina'].describe()"
   ]
  },
  {
   "cell_type": "code",
   "execution_count": 124,
   "metadata": {},
   "outputs": [],
   "source": [
    "# % de inmuebles en la zona que son de uso de otros (IDEA_pc_otros)"
   ]
  },
  {
   "cell_type": "code",
   "execution_count": 125,
   "metadata": {},
   "outputs": [
    {
     "data": {
      "text/plain": [
       "0    0.10\n",
       "1    0.06\n",
       "2    0.17\n",
       "3    0.06\n",
       "4    0.06\n",
       "Name: IDEA_pc_otros, dtype: float64"
      ]
     },
     "execution_count": 125,
     "metadata": {},
     "output_type": "execute_result"
    }
   ],
   "source": [
    "df_modelar['IDEA_pc_otros'].head()"
   ]
  },
  {
   "cell_type": "code",
   "execution_count": 126,
   "metadata": {},
   "outputs": [
    {
     "data": {
      "text/plain": [
       "count    7248.000000\n",
       "mean        0.054572\n",
       "std         0.047847\n",
       "min         0.000000\n",
       "25%         0.020000\n",
       "50%         0.040000\n",
       "75%         0.070000\n",
       "max         0.430000\n",
       "Name: IDEA_pc_otros, dtype: float64"
      ]
     },
     "execution_count": 126,
     "metadata": {},
     "output_type": "execute_result"
    }
   ],
   "source": [
    "df_modelar['IDEA_pc_otros'].describe()"
   ]
  },
  {
   "cell_type": "code",
   "execution_count": 127,
   "metadata": {},
   "outputs": [],
   "source": [
    "# % de inmuebles en la zona que son de uso residencial (IDEA_pc_residencial)"
   ]
  },
  {
   "cell_type": "code",
   "execution_count": 128,
   "metadata": {},
   "outputs": [
    {
     "data": {
      "text/plain": [
       "0    0.55\n",
       "1    0.57\n",
       "2    0.59\n",
       "3    0.45\n",
       "4    0.45\n",
       "Name: IDEA_pc_residencial, dtype: float64"
      ]
     },
     "execution_count": 128,
     "metadata": {},
     "output_type": "execute_result"
    }
   ],
   "source": [
    "df_modelar['IDEA_pc_residencial'].head()"
   ]
  },
  {
   "cell_type": "code",
   "execution_count": 129,
   "metadata": {},
   "outputs": [
    {
     "data": {
      "text/plain": [
       "count    7248.000000\n",
       "mean        0.499603\n",
       "std         0.079948\n",
       "min         0.020000\n",
       "25%         0.450000\n",
       "50%         0.500000\n",
       "75%         0.550000\n",
       "max         0.910000\n",
       "Name: IDEA_pc_residencial, dtype: float64"
      ]
     },
     "execution_count": 129,
     "metadata": {},
     "output_type": "execute_result"
    }
   ],
   "source": [
    "df_modelar['IDEA_pc_residencial'].describe()"
   ]
  },
  {
   "cell_type": "code",
   "execution_count": 130,
   "metadata": {},
   "outputs": [],
   "source": [
    "# % de inmuebles en la zona que son trasteros/aparcamientos (IDEA_pc_trast_parking)"
   ]
  },
  {
   "cell_type": "code",
   "execution_count": 131,
   "metadata": {},
   "outputs": [
    {
     "data": {
      "text/plain": [
       "0    0.34\n",
       "1    0.35\n",
       "2    0.17\n",
       "3    0.47\n",
       "4    0.47\n",
       "Name: IDEA_pc_trast_parking, dtype: float64"
      ]
     },
     "execution_count": 131,
     "metadata": {},
     "output_type": "execute_result"
    }
   ],
   "source": [
    "df_modelar['IDEA_pc_trast_parking'].head()"
   ]
  },
  {
   "cell_type": "code",
   "execution_count": 132,
   "metadata": {},
   "outputs": [
    {
     "data": {
      "text/plain": [
       "count    7248.000000\n",
       "mean        0.407939\n",
       "std         0.086394\n",
       "min         0.020000\n",
       "25%         0.350000\n",
       "50%         0.420000\n",
       "75%         0.460000\n",
       "max         0.850000\n",
       "Name: IDEA_pc_trast_parking, dtype: float64"
      ]
     },
     "execution_count": 132,
     "metadata": {},
     "output_type": "execute_result"
    }
   ],
   "source": [
    "df_modelar['IDEA_pc_trast_parking'].describe()"
   ]
  },
  {
   "cell_type": "code",
   "execution_count": 133,
   "metadata": {},
   "outputs": [],
   "source": [
    "# % de inmuebles en la zona que son trasteros/aparcamientos (IDEA_pc_trast_parking)"
   ]
  },
  {
   "cell_type": "code",
   "execution_count": 134,
   "metadata": {},
   "outputs": [
    {
     "data": {
      "text/plain": [
       "0    0.34\n",
       "1    0.35\n",
       "2    0.17\n",
       "3    0.47\n",
       "4    0.47\n",
       "Name: IDEA_pc_trast_parking, dtype: float64"
      ]
     },
     "execution_count": 134,
     "metadata": {},
     "output_type": "execute_result"
    }
   ],
   "source": [
    "df_modelar['IDEA_pc_trast_parking'].head()"
   ]
  },
  {
   "cell_type": "code",
   "execution_count": 135,
   "metadata": {},
   "outputs": [
    {
     "data": {
      "text/plain": [
       "count    7248.000000\n",
       "mean        0.407939\n",
       "std         0.086394\n",
       "min         0.020000\n",
       "25%         0.350000\n",
       "50%         0.420000\n",
       "75%         0.460000\n",
       "max         0.850000\n",
       "Name: IDEA_pc_trast_parking, dtype: float64"
      ]
     },
     "execution_count": 135,
     "metadata": {},
     "output_type": "execute_result"
    }
   ],
   "source": [
    "df_modelar['IDEA_pc_trast_parking'].describe()"
   ]
  },
  {
   "cell_type": "code",
   "execution_count": 136,
   "metadata": {},
   "outputs": [],
   "source": [
    "# % de inmuebles en la zona que son tienda/local comercial (IDEA_ind_tienda)"
   ]
  },
  {
   "cell_type": "code",
   "execution_count": 137,
   "metadata": {},
   "outputs": [
    {
     "data": {
      "text/plain": [
       "0    0.20\n",
       "1    0.00\n",
       "2    0.76\n",
       "3    0.51\n",
       "4    0.51\n",
       "Name: IDEA_ind_tienda, dtype: float64"
      ]
     },
     "execution_count": 137,
     "metadata": {},
     "output_type": "execute_result"
    }
   ],
   "source": [
    "df_modelar['IDEA_ind_tienda'].head()"
   ]
  },
  {
   "cell_type": "code",
   "execution_count": 138,
   "metadata": {},
   "outputs": [
    {
     "data": {
      "text/plain": [
       "count    7241.000000\n",
       "mean        0.328359\n",
       "std         0.283297\n",
       "min         0.000000\n",
       "25%         0.000000\n",
       "50%         0.330000\n",
       "75%         0.510000\n",
       "max         1.000000\n",
       "Name: IDEA_ind_tienda, dtype: float64"
      ]
     },
     "execution_count": 138,
     "metadata": {},
     "output_type": "execute_result"
    }
   ],
   "source": [
    "df_modelar['IDEA_ind_tienda'].describe()"
   ]
  },
  {
   "cell_type": "code",
   "execution_count": 139,
   "metadata": {},
   "outputs": [],
   "source": [
    "# puntos de interes turistico en la zona (IDEA_ind_turismo)"
   ]
  },
  {
   "cell_type": "code",
   "execution_count": 140,
   "metadata": {},
   "outputs": [
    {
     "data": {
      "text/plain": [
       "0    0.60\n",
       "1    0.00\n",
       "2    0.08\n",
       "3    0.06\n",
       "4    0.06\n",
       "Name: IDEA_ind_turismo, dtype: float64"
      ]
     },
     "execution_count": 140,
     "metadata": {},
     "output_type": "execute_result"
    }
   ],
   "source": [
    "df_modelar['IDEA_ind_turismo'].head()"
   ]
  },
  {
   "cell_type": "code",
   "execution_count": 141,
   "metadata": {},
   "outputs": [
    {
     "data": {
      "text/plain": [
       "count    7241.000000\n",
       "mean        0.324650\n",
       "std         0.328937\n",
       "min         0.000000\n",
       "25%         0.040000\n",
       "50%         0.230000\n",
       "75%         0.540000\n",
       "max         1.000000\n",
       "Name: IDEA_ind_turismo, dtype: float64"
      ]
     },
     "execution_count": 141,
     "metadata": {},
     "output_type": "execute_result"
    }
   ],
   "source": [
    "df_modelar['IDEA_ind_turismo'].describe()"
   ]
  },
  {
   "cell_type": "code",
   "execution_count": 142,
   "metadata": {},
   "outputs": [],
   "source": [
    "# nivel de restaurantes de la zona (IDEA_ind_alimentacion)"
   ]
  },
  {
   "cell_type": "code",
   "execution_count": 143,
   "metadata": {},
   "outputs": [
    {
     "data": {
      "text/plain": [
       "0    0.20\n",
       "1    0.00\n",
       "2    0.15\n",
       "3    0.43\n",
       "4    0.43\n",
       "Name: IDEA_ind_alimentacion, dtype: float64"
      ]
     },
     "execution_count": 143,
     "metadata": {},
     "output_type": "execute_result"
    }
   ],
   "source": [
    "df_modelar['IDEA_ind_alimentacion'].head()"
   ]
  },
  {
   "cell_type": "code",
   "execution_count": 144,
   "metadata": {},
   "outputs": [
    {
     "data": {
      "text/plain": [
       "count    7241.000000\n",
       "mean        0.258952\n",
       "std         0.244020\n",
       "min         0.000000\n",
       "25%         0.000000\n",
       "50%         0.230000\n",
       "75%         0.410000\n",
       "max         1.000000\n",
       "Name: IDEA_ind_alimentacion, dtype: float64"
      ]
     },
     "execution_count": 144,
     "metadata": {},
     "output_type": "execute_result"
    }
   ],
   "source": [
    "df_modelar['IDEA_ind_alimentacion'].describe()"
   ]
  },
  {
   "cell_type": "code",
   "execution_count": 145,
   "metadata": {},
   "outputs": [],
   "source": [
    "# riqueza por habitante (IDEA_ind_riqueza)"
   ]
  },
  {
   "cell_type": "code",
   "execution_count": 146,
   "metadata": {},
   "outputs": [
    {
     "data": {
      "text/plain": [
       "0    0.20\n",
       "1    0.17\n",
       "2    0.16\n",
       "3    0.31\n",
       "4    0.31\n",
       "Name: IDEA_ind_riqueza, dtype: float64"
      ]
     },
     "execution_count": 146,
     "metadata": {},
     "output_type": "execute_result"
    }
   ],
   "source": [
    "df_modelar['IDEA_ind_riqueza'].head()"
   ]
  },
  {
   "cell_type": "code",
   "execution_count": 147,
   "metadata": {},
   "outputs": [
    {
     "data": {
      "text/plain": [
       "count    7327.000000\n",
       "mean        0.164402\n",
       "std         0.075067\n",
       "min         0.030000\n",
       "25%         0.120000\n",
       "50%         0.140000\n",
       "75%         0.190000\n",
       "max         1.000000\n",
       "Name: IDEA_ind_riqueza, dtype: float64"
      ]
     },
     "execution_count": 147,
     "metadata": {},
     "output_type": "execute_result"
    }
   ],
   "source": [
    "df_modelar['IDEA_ind_riqueza'].describe()"
   ]
  },
  {
   "cell_type": "code",
   "execution_count": 148,
   "metadata": {},
   "outputs": [],
   "source": [
    "# rentabilidad bruta de alquiler (IDEA_rent_alquiler"
   ]
  },
  {
   "cell_type": "code",
   "execution_count": 149,
   "metadata": {},
   "outputs": [
    {
     "data": {
      "text/plain": [
       "0    4.21\n",
       "1     NaN\n",
       "2    6.52\n",
       "3    4.39\n",
       "4    4.39\n",
       "Name: IDEA_rent_alquiler, dtype: float64"
      ]
     },
     "execution_count": 149,
     "metadata": {},
     "output_type": "execute_result"
    }
   ],
   "source": [
    "df_modelar['IDEA_rent_alquiler'].head()"
   ]
  },
  {
   "cell_type": "code",
   "execution_count": 150,
   "metadata": {},
   "outputs": [
    {
     "data": {
      "text/plain": [
       "count    6896.000000\n",
       "mean        5.386890\n",
       "std         1.295281\n",
       "min         2.500000\n",
       "25%         4.540000\n",
       "50%         5.185000\n",
       "75%         5.960000\n",
       "max        12.000000\n",
       "Name: IDEA_rent_alquiler, dtype: float64"
      ]
     },
     "execution_count": 150,
     "metadata": {},
     "output_type": "execute_result"
    }
   ],
   "source": [
    "df_modelar['IDEA_rent_alquiler'].describe()"
   ]
  },
  {
   "cell_type": "code",
   "execution_count": 151,
   "metadata": {},
   "outputs": [],
   "source": [
    "# elasticidad de los precios (IDEA_ind_elasticidad)\n",
    "#https://es.wikipedia.org/wiki/Elasticidad_precio_de_la_demanda\n",
    "# 1 bajo, 5 alto"
   ]
  },
  {
   "cell_type": "code",
   "execution_count": 152,
   "metadata": {},
   "outputs": [
    {
     "data": {
      "text/plain": [
       "0    2.0\n",
       "1    NaN\n",
       "2    NaN\n",
       "3    NaN\n",
       "4    NaN\n",
       "Name: IDEA_ind_elasticidad, dtype: float64"
      ]
     },
     "execution_count": 152,
     "metadata": {},
     "output_type": "execute_result"
    }
   ],
   "source": [
    "df_modelar['IDEA_ind_elasticidad'].head()"
   ]
  },
  {
   "cell_type": "code",
   "execution_count": 153,
   "metadata": {},
   "outputs": [
    {
     "data": {
      "text/plain": [
       "count    4852.000000\n",
       "mean        3.054740\n",
       "std         1.163774\n",
       "min         1.000000\n",
       "25%         2.000000\n",
       "50%         3.000000\n",
       "75%         4.000000\n",
       "max         5.000000\n",
       "Name: IDEA_ind_elasticidad, dtype: float64"
      ]
     },
     "execution_count": 153,
     "metadata": {},
     "output_type": "execute_result"
    }
   ],
   "source": [
    "df_modelar['IDEA_ind_elasticidad'].describe()"
   ]
  },
  {
   "cell_type": "code",
   "execution_count": 154,
   "metadata": {},
   "outputs": [],
   "source": [
    "# nivel de liquided del activo (IDEA_ind_liquidez)\n",
    "\n",
    "# categorico -> -1, 0, +1"
   ]
  },
  {
   "cell_type": "code",
   "execution_count": 155,
   "metadata": {},
   "outputs": [
    {
     "data": {
      "text/plain": [
       "0    1.0\n",
       "1    NaN\n",
       "2    NaN\n",
       "3    NaN\n",
       "4    NaN\n",
       "Name: IDEA_ind_liquidez, dtype: float64"
      ]
     },
     "execution_count": 155,
     "metadata": {},
     "output_type": "execute_result"
    }
   ],
   "source": [
    "df_modelar['IDEA_ind_liquidez'].head()"
   ]
  },
  {
   "cell_type": "code",
   "execution_count": 156,
   "metadata": {},
   "outputs": [
    {
     "data": {
      "text/plain": [
       "count    4852.000000\n",
       "mean        0.014984\n",
       "std         0.489711\n",
       "min        -1.000000\n",
       "25%         0.000000\n",
       "50%         0.000000\n",
       "75%         0.000000\n",
       "max         1.000000\n",
       "Name: IDEA_ind_liquidez, dtype: float64"
      ]
     },
     "execution_count": 156,
     "metadata": {},
     "output_type": "execute_result"
    }
   ],
   "source": [
    "df_modelar['IDEA_ind_liquidez'].describe()"
   ]
  },
  {
   "cell_type": "code",
   "execution_count": 157,
   "metadata": {},
   "outputs": [],
   "source": [
    "# precio medio del m^2 en la zona (IDEA_unitprice_sale_residential)"
   ]
  },
  {
   "cell_type": "code",
   "execution_count": 158,
   "metadata": {},
   "outputs": [
    {
     "data": {
      "text/plain": [
       "0    1043.31\n",
       "1     708.18\n",
       "2    1080.75\n",
       "3    1133.81\n",
       "4    1133.81\n",
       "Name: IDEA_unitprice_sale_residential, dtype: float64"
      ]
     },
     "execution_count": 158,
     "metadata": {},
     "output_type": "execute_result"
    }
   ],
   "source": [
    "df_modelar['IDEA_unitprice_sale_residential'].head()"
   ]
  },
  {
   "cell_type": "code",
   "execution_count": 159,
   "metadata": {},
   "outputs": [
    {
     "data": {
      "text/plain": [
       "count    7323.000000\n",
       "mean     1016.892884\n",
       "std       449.799793\n",
       "min       273.830000\n",
       "25%       735.090000\n",
       "50%       910.090000\n",
       "75%      1141.410000\n",
       "max      6363.400000\n",
       "Name: IDEA_unitprice_sale_residential, dtype: float64"
      ]
     },
     "execution_count": 159,
     "metadata": {},
     "output_type": "execute_result"
    }
   ],
   "source": [
    "df_modelar['IDEA_unitprice_sale_residential'].describe()"
   ]
  },
  {
   "cell_type": "code",
   "execution_count": 160,
   "metadata": {},
   "outputs": [],
   "source": [
    "# Número de inmuebles en venta en la zona (IDEA_stock_sale_residential)"
   ]
  },
  {
   "cell_type": "code",
   "execution_count": 161,
   "metadata": {},
   "outputs": [
    {
     "data": {
      "text/plain": [
       "0    3417.0\n",
       "1      33.0\n",
       "2     393.0\n",
       "3     654.0\n",
       "4     654.0\n",
       "Name: IDEA_stock_sale_residential, dtype: float64"
      ]
     },
     "execution_count": 161,
     "metadata": {},
     "output_type": "execute_result"
    }
   ],
   "source": [
    "df_modelar['IDEA_stock_sale_residential'].head()"
   ]
  },
  {
   "cell_type": "code",
   "execution_count": 162,
   "metadata": {},
   "outputs": [
    {
     "data": {
      "text/plain": [
       "count    7323.000000\n",
       "mean     1097.745596\n",
       "std       849.334511\n",
       "min         3.000000\n",
       "25%       456.000000\n",
       "50%       954.000000\n",
       "75%      1509.000000\n",
       "max      5139.000000\n",
       "Name: IDEA_stock_sale_residential, dtype: float64"
      ]
     },
     "execution_count": 162,
     "metadata": {},
     "output_type": "execute_result"
    }
   ],
   "source": [
    "df_modelar['IDEA_stock_sale_residential'].describe()"
   ]
  },
  {
   "cell_type": "code",
   "execution_count": 163,
   "metadata": {},
   "outputs": [],
   "source": [
    "# Intensidad de demanda residencial (IDEA_demand_sale_residential)"
   ]
  },
  {
   "cell_type": "code",
   "execution_count": 164,
   "metadata": {},
   "outputs": [
    {
     "data": {
      "text/plain": [
       "0    48.34\n",
       "1     0.00\n",
       "2    49.51\n",
       "3    49.95\n",
       "4    49.95\n",
       "Name: IDEA_demand_sale_residential, dtype: float64"
      ]
     },
     "execution_count": 164,
     "metadata": {},
     "output_type": "execute_result"
    }
   ],
   "source": [
    "df_modelar['IDEA_demand_sale_residential'].head()"
   ]
  },
  {
   "cell_type": "code",
   "execution_count": 165,
   "metadata": {},
   "outputs": [
    {
     "data": {
      "text/plain": [
       "count    7323.000000\n",
       "mean       48.774987\n",
       "std         4.444144\n",
       "min         0.000000\n",
       "25%        48.710000\n",
       "50%        49.160000\n",
       "75%        49.660000\n",
       "max        52.380000\n",
       "Name: IDEA_demand_sale_residential, dtype: float64"
      ]
     },
     "execution_count": 165,
     "metadata": {},
     "output_type": "execute_result"
    }
   ],
   "source": [
    "df_modelar['IDEA_demand_sale_residential'].describe()"
   ]
  },
  {
   "cell_type": "code",
   "execution_count": 166,
   "metadata": {},
   "outputs": [],
   "source": [
    "# Precio medio alquiler residencial por m^2 (IDEA_unitprice_rent_residential)"
   ]
  },
  {
   "cell_type": "code",
   "execution_count": 167,
   "metadata": {},
   "outputs": [
    {
     "data": {
      "text/plain": [
       "0    5.09\n",
       "1    4.08\n",
       "2    4.43\n",
       "3    5.03\n",
       "4    5.03\n",
       "Name: IDEA_unitprice_rent_residential, dtype: float64"
      ]
     },
     "execution_count": 167,
     "metadata": {},
     "output_type": "execute_result"
    }
   ],
   "source": [
    "df_modelar['IDEA_unitprice_rent_residential'].head()"
   ]
  },
  {
   "cell_type": "code",
   "execution_count": 168,
   "metadata": {},
   "outputs": [
    {
     "data": {
      "text/plain": [
       "count    6960.000000\n",
       "mean        5.164539\n",
       "std         1.815746\n",
       "min         1.000000\n",
       "25%         3.980000\n",
       "50%         4.810000\n",
       "75%         5.940000\n",
       "max        18.750000\n",
       "Name: IDEA_unitprice_rent_residential, dtype: float64"
      ]
     },
     "execution_count": 168,
     "metadata": {},
     "output_type": "execute_result"
    }
   ],
   "source": [
    "df_modelar['IDEA_unitprice_rent_residential'].describe()"
   ]
  },
  {
   "cell_type": "code",
   "execution_count": 169,
   "metadata": {},
   "outputs": [],
   "source": [
    "# Precio medio alquiler (IDEA_price_rent_residential)"
   ]
  },
  {
   "cell_type": "code",
   "execution_count": 170,
   "metadata": {},
   "outputs": [
    {
     "data": {
      "text/plain": [
       "0    626.38\n",
       "1    700.00\n",
       "2    525.00\n",
       "3    863.17\n",
       "4    863.17\n",
       "Name: IDEA_price_rent_residential, dtype: float64"
      ]
     },
     "execution_count": 170,
     "metadata": {},
     "output_type": "execute_result"
    }
   ],
   "source": [
    "df_modelar['IDEA_price_rent_residential'].head()"
   ]
  },
  {
   "cell_type": "code",
   "execution_count": 171,
   "metadata": {},
   "outputs": [
    {
     "data": {
      "text/plain": [
       "0    626.38\n",
       "1    700.00\n",
       "2    525.00\n",
       "3    863.17\n",
       "4    863.17\n",
       "Name: IDEA_price_rent_residential, dtype: float64"
      ]
     },
     "execution_count": 171,
     "metadata": {},
     "output_type": "execute_result"
    }
   ],
   "source": [
    "df_modelar['IDEA_price_rent_residential'].head()"
   ]
  },
  {
   "cell_type": "code",
   "execution_count": 172,
   "metadata": {},
   "outputs": [],
   "source": [
    "# Numero de anuncios de alquiler (IDEA_stock_rent_residential)"
   ]
  },
  {
   "cell_type": "code",
   "execution_count": 173,
   "metadata": {},
   "outputs": [
    {
     "data": {
      "text/plain": [
       "0    237.0\n",
       "1      6.0\n",
       "2     15.0\n",
       "3    168.0\n",
       "4    168.0\n",
       "Name: IDEA_stock_rent_residential, dtype: float64"
      ]
     },
     "execution_count": 173,
     "metadata": {},
     "output_type": "execute_result"
    }
   ],
   "source": [
    "df_modelar['IDEA_stock_rent_residential'].head()"
   ]
  },
  {
   "cell_type": "code",
   "execution_count": 174,
   "metadata": {},
   "outputs": [
    {
     "data": {
      "text/plain": [
       "count    6960.000000\n",
       "mean      116.106897\n",
       "std       249.668927\n",
       "min         3.000000\n",
       "25%        24.000000\n",
       "50%        57.000000\n",
       "75%       120.000000\n",
       "max      5685.000000\n",
       "Name: IDEA_stock_rent_residential, dtype: float64"
      ]
     },
     "execution_count": 174,
     "metadata": {},
     "output_type": "execute_result"
    }
   ],
   "source": [
    "df_modelar['IDEA_stock_rent_residential'].describe()"
   ]
  },
  {
   "cell_type": "code",
   "execution_count": 175,
   "metadata": {},
   "outputs": [],
   "source": [
    "# Demanda alquiler (IDEA_demand_rent_residential)"
   ]
  },
  {
   "cell_type": "code",
   "execution_count": 176,
   "metadata": {},
   "outputs": [
    {
     "data": {
      "text/plain": [
       "0    51.01\n",
       "1    50.69\n",
       "2    51.82\n",
       "3    50.74\n",
       "4    50.74\n",
       "Name: IDEA_demand_rent_residential, dtype: float64"
      ]
     },
     "execution_count": 176,
     "metadata": {},
     "output_type": "execute_result"
    }
   ],
   "source": [
    "df_modelar['IDEA_demand_rent_residential'].head()"
   ]
  },
  {
   "cell_type": "code",
   "execution_count": 177,
   "metadata": {},
   "outputs": [
    {
     "data": {
      "text/plain": [
       "count    7323.00000\n",
       "mean       47.52931\n",
       "std        13.73609\n",
       "min         0.00000\n",
       "25%        50.94000\n",
       "50%        51.39000\n",
       "75%        51.88000\n",
       "max        54.22000\n",
       "Name: IDEA_demand_rent_residential, dtype: float64"
      ]
     },
     "execution_count": 177,
     "metadata": {},
     "output_type": "execute_result"
    }
   ],
   "source": [
    "df_modelar['IDEA_demand_rent_residential'].describe()"
   ]
  },
  {
   "cell_type": "code",
   "execution_count": 178,
   "metadata": {},
   "outputs": [],
   "source": [
    "# Numero de páginas vistas (GA_page_views)"
   ]
  },
  {
   "cell_type": "code",
   "execution_count": 179,
   "metadata": {},
   "outputs": [
    {
     "data": {
      "text/plain": [
       "0     71\n",
       "1    684\n",
       "2    651\n",
       "3     92\n",
       "4      3\n",
       "Name: GA_page_views, dtype: int64"
      ]
     },
     "execution_count": 179,
     "metadata": {},
     "output_type": "execute_result"
    }
   ],
   "source": [
    "df_modelar['GA_page_views'].head()"
   ]
  },
  {
   "cell_type": "code",
   "execution_count": 180,
   "metadata": {},
   "outputs": [
    {
     "data": {
      "text/plain": [
       "count     9958.000000\n",
       "mean       190.964652\n",
       "std        482.313088\n",
       "min          0.000000\n",
       "25%          6.000000\n",
       "50%         30.000000\n",
       "75%        168.000000\n",
       "max      13698.000000\n",
       "Name: GA_page_views, dtype: float64"
      ]
     },
     "execution_count": 180,
     "metadata": {},
     "output_type": "execute_result"
    }
   ],
   "source": [
    "df_modelar['GA_page_views'].describe()"
   ]
  },
  {
   "cell_type": "code",
   "execution_count": 181,
   "metadata": {},
   "outputs": [],
   "source": [
    "# Bounce rate (GA_bounce_rate)"
   ]
  },
  {
   "cell_type": "code",
   "execution_count": 182,
   "metadata": {},
   "outputs": [
    {
     "data": {
      "text/plain": [
       "0     7.14\n",
       "1    16.36\n",
       "2    15.12\n",
       "3    15.82\n",
       "4     0.00\n",
       "Name: GA_mean_bounce, dtype: float64"
      ]
     },
     "execution_count": 182,
     "metadata": {},
     "output_type": "execute_result"
    }
   ],
   "source": [
    "df_modelar['GA_mean_bounce'].head()"
   ]
  },
  {
   "cell_type": "code",
   "execution_count": 183,
   "metadata": {},
   "outputs": [
    {
     "data": {
      "text/plain": [
       "count    9958.000000\n",
       "mean       18.715863\n",
       "std        19.983743\n",
       "min         0.000000\n",
       "25%         0.000000\n",
       "50%        14.290000\n",
       "75%        29.170000\n",
       "max       100.000000\n",
       "Name: GA_mean_bounce, dtype: float64"
      ]
     },
     "execution_count": 183,
     "metadata": {},
     "output_type": "execute_result"
    }
   ],
   "source": [
    "df_modelar['GA_mean_bounce'].describe()"
   ]
  },
  {
   "cell_type": "code",
   "execution_count": 184,
   "metadata": {},
   "outputs": [],
   "source": [
    "# % cerrado navegador sin ver más páginas (GA_exit_rate)"
   ]
  },
  {
   "cell_type": "code",
   "execution_count": 185,
   "metadata": {},
   "outputs": [
    {
     "data": {
      "text/plain": [
       "0    10.65\n",
       "1     5.25\n",
       "2    11.21\n",
       "3    14.55\n",
       "4     0.00\n",
       "Name: GA_exit_rate, dtype: float64"
      ]
     },
     "execution_count": 185,
     "metadata": {},
     "output_type": "execute_result"
    }
   ],
   "source": [
    "df_modelar['GA_exit_rate'].head()"
   ]
  },
  {
   "cell_type": "code",
   "execution_count": 186,
   "metadata": {},
   "outputs": [
    {
     "data": {
      "text/plain": [
       "count    9958.000000\n",
       "mean       22.209963\n",
       "std        20.995044\n",
       "min         0.000000\n",
       "25%         8.612500\n",
       "50%        16.960000\n",
       "75%        30.000000\n",
       "max       100.000000\n",
       "Name: GA_exit_rate, dtype: float64"
      ]
     },
     "execution_count": 186,
     "metadata": {},
     "output_type": "execute_result"
    }
   ],
   "source": [
    "df_modelar['GA_exit_rate'].describe()"
   ]
  },
  {
   "cell_type": "code",
   "execution_count": 187,
   "metadata": {},
   "outputs": [],
   "source": [
    "# Primera quincena aparición anuncio (GA_quincena_ini)"
   ]
  },
  {
   "cell_type": "code",
   "execution_count": 188,
   "metadata": {},
   "outputs": [
    {
     "data": {
      "text/plain": [
       "0    2\n",
       "1    1\n",
       "2    1\n",
       "3    2\n",
       "4    2\n",
       "Name: GA_quincena_ini, dtype: int64"
      ]
     },
     "execution_count": 188,
     "metadata": {},
     "output_type": "execute_result"
    }
   ],
   "source": [
    "df_modelar['GA_quincena_ini'].head()"
   ]
  },
  {
   "cell_type": "code",
   "execution_count": 189,
   "metadata": {},
   "outputs": [
    {
     "data": {
      "text/plain": [
       "count    9958.000000\n",
       "mean       14.421370\n",
       "std        14.091417\n",
       "min         1.000000\n",
       "25%         2.000000\n",
       "50%         9.000000\n",
       "75%        26.000000\n",
       "max        47.000000\n",
       "Name: GA_quincena_ini, dtype: float64"
      ]
     },
     "execution_count": 189,
     "metadata": {},
     "output_type": "execute_result"
    }
   ],
   "source": [
    "df_modelar['GA_quincena_ini'].describe()"
   ]
  },
  {
   "cell_type": "code",
   "execution_count": 190,
   "metadata": {},
   "outputs": [],
   "source": [
    "# Última quincena aparición anuncio (GA_quincena_ult)"
   ]
  },
  {
   "cell_type": "code",
   "execution_count": 191,
   "metadata": {},
   "outputs": [
    {
     "data": {
      "text/plain": [
       "0    46\n",
       "1    47\n",
       "2    47\n",
       "3    47\n",
       "4    39\n",
       "Name: GA_quincena_ult, dtype: int64"
      ]
     },
     "execution_count": 191,
     "metadata": {},
     "output_type": "execute_result"
    }
   ],
   "source": [
    "df_modelar['GA_quincena_ult'].head()"
   ]
  },
  {
   "cell_type": "code",
   "execution_count": 192,
   "metadata": {},
   "outputs": [
    {
     "data": {
      "text/plain": [
       "count    9958.000000\n",
       "mean       42.546596\n",
       "std         8.404279\n",
       "min         1.000000\n",
       "25%        42.000000\n",
       "50%        46.000000\n",
       "75%        47.000000\n",
       "max        47.000000\n",
       "Name: GA_quincena_ult, dtype: float64"
      ]
     },
     "execution_count": 192,
     "metadata": {},
     "output_type": "execute_result"
    }
   ],
   "source": [
    "df_modelar['GA_quincena_ult'].describe()"
   ]
  },
  {
   "cell_type": "code",
   "execution_count": 193,
   "metadata": {},
   "outputs": [],
   "source": [
    "# Duración media visita (TARGET)"
   ]
  },
  {
   "cell_type": "code",
   "execution_count": 194,
   "metadata": {},
   "outputs": [
    {
     "data": {
      "text/plain": [
       "0                     Garaje\n",
       "1                       Piso\n",
       "2                       Piso\n",
       "3                       Piso\n",
       "4                       Piso\n",
       "5                       Piso\n",
       "6                       Piso\n",
       "7                     Garaje\n",
       "8                       Piso\n",
       "9                       Piso\n",
       "10                    Garaje\n",
       "11                      Piso\n",
       "12                      Piso\n",
       "13                    Garaje\n",
       "14                      Piso\n",
       "15                      Piso\n",
       "16                      Piso\n",
       "17                    Garaje\n",
       "18                  Trastero\n",
       "19                    Garaje\n",
       "20                    Garaje\n",
       "21                    Garaje\n",
       "22                    Garaje\n",
       "23                    Garaje\n",
       "24            Casa de pueblo\n",
       "25            Casa de pueblo\n",
       "26                  Trastero\n",
       "27            Casa de pueblo\n",
       "28                  Trastero\n",
       "29                    Garaje\n",
       "                ...         \n",
       "1074                    Piso\n",
       "1075          Casa de pueblo\n",
       "1076                    Piso\n",
       "1077                    Piso\n",
       "1078                    Piso\n",
       "1079          Chalet adosado\n",
       "1080                    Piso\n",
       "1081                   Ático\n",
       "1082    Chalet independiente\n",
       "1083                    Piso\n",
       "1084                  Garaje\n",
       "1085                    Piso\n",
       "1086          Casa de pueblo\n",
       "1087                   Local\n",
       "1088          Chalet adosado\n",
       "1089                   Solar\n",
       "1090    Chalet independiente\n",
       "1091                    Piso\n",
       "1092                    Piso\n",
       "1093                    Piso\n",
       "1094                  Garaje\n",
       "1095          Chalet adosado\n",
       "1096                    Piso\n",
       "1097                    Piso\n",
       "1098                    Piso\n",
       "1099                    Piso\n",
       "1100          Casa de pueblo\n",
       "1101                    Piso\n",
       "1102                    Piso\n",
       "1103                    Piso\n",
       "Name: HY_tipo, Length: 1104, dtype: object"
      ]
     },
     "execution_count": 194,
     "metadata": {},
     "output_type": "execute_result"
    }
   ],
   "source": [
    "df_estimar['HY_tipo']"
   ]
  },
  {
   "cell_type": "code",
   "execution_count": 195,
   "metadata": {},
   "outputs": [
    {
     "data": {
      "text/plain": [
       "count     9958\n",
       "unique      20\n",
       "top       Piso\n",
       "freq      4182\n",
       "Name: HY_tipo, dtype: object"
      ]
     },
     "execution_count": 195,
     "metadata": {},
     "output_type": "execute_result"
    }
   ],
   "source": [
    "df_modelar['HY_tipo'].describe()"
   ]
  },
  {
   "cell_type": "code",
   "execution_count": 196,
   "metadata": {},
   "outputs": [
    {
     "data": {
      "text/plain": [
       "count     1104\n",
       "unique      16\n",
       "top       Piso\n",
       "freq       439\n",
       "Name: HY_tipo, dtype: object"
      ]
     },
     "execution_count": 196,
     "metadata": {},
     "output_type": "execute_result"
    }
   ],
   "source": [
    "df_estimar['HY_tipo'].describe()"
   ]
  },
  {
   "cell_type": "code",
   "execution_count": 197,
   "metadata": {},
   "outputs": [
    {
     "data": {
      "text/plain": [
       "16"
      ]
     },
     "execution_count": 197,
     "metadata": {},
     "output_type": "execute_result"
    }
   ],
   "source": [
    "len(set(df_modelar['HY_tipo'].unique()).intersection( set(df_estimar['HY_tipo'].unique())))"
   ]
  },
  {
   "cell_type": "code",
   "execution_count": 198,
   "metadata": {},
   "outputs": [
    {
     "data": {
      "text/plain": [
       "array([nan, 'F', 'E', 'G', 'D', 'C'], dtype=object)"
      ]
     },
     "execution_count": 198,
     "metadata": {},
     "output_type": "execute_result"
    }
   ],
   "source": [
    "df_modelar['HY_cert_energ'].unique()"
   ]
  },
  {
   "cell_type": "code",
   "execution_count": 199,
   "metadata": {},
   "outputs": [
    {
     "data": {
      "text/plain": [
       "array([nan, 'E', 'G', 'F', 'C', 'D'], dtype=object)"
      ]
     },
     "execution_count": 199,
     "metadata": {},
     "output_type": "execute_result"
    }
   ],
   "source": [
    "df_estimar['HY_cert_energ'].unique()"
   ]
  },
  {
   "cell_type": "code",
   "execution_count": 200,
   "metadata": {},
   "outputs": [
    {
     "data": {
      "text/plain": [
       "True"
      ]
     },
     "execution_count": 200,
     "metadata": {},
     "output_type": "execute_result"
    }
   ],
   "source": [
    "set(df_modelar['HY_cert_energ']) == set(df_estimar['HY_cert_energ'])"
   ]
  },
  {
   "cell_type": "code",
   "execution_count": 201,
   "metadata": {},
   "outputs": [],
   "source": [
    "df_area = df_modelar[df_modelar['IDEA_area'].notnull()]\n",
    "df_poblacion = df_modelar[df_modelar['IDEA_poblacion'].notnull()]\n",
    "df_densidad = df_modelar[df_modelar['IDEA_densidad'].notnull()]"
   ]
  },
  {
   "cell_type": "code",
   "execution_count": 202,
   "metadata": {},
   "outputs": [
    {
     "data": {
      "text/plain": [
       "False"
      ]
     },
     "metadata": {},
     "output_type": "display_data"
    },
    {
     "data": {
      "text/plain": [
       "False"
      ]
     },
     "metadata": {},
     "output_type": "display_data"
    },
    {
     "data": {
      "text/plain": [
       "True"
      ]
     },
     "metadata": {},
     "output_type": "display_data"
    }
   ],
   "source": [
    "area = set(df_area['HY_id'].unique())\n",
    "poblacion = set(df_poblacion['HY_id'].unique())\n",
    "densidad = set(df_densidad['HY_id'].unique())\n",
    "display(area == poblacion)\n",
    "display(area == densidad)\n",
    "display(densidad == poblacion)"
   ]
  },
  {
   "cell_type": "code",
   "execution_count": 203,
   "metadata": {},
   "outputs": [
    {
     "data": {
      "text/plain": [
       "{6029572, 6030237, 6040569, 6711144}"
      ]
     },
     "metadata": {},
     "output_type": "display_data"
    },
    {
     "data": {
      "text/plain": [
       "{6029572, 6030237, 6040569, 6711144}"
      ]
     },
     "metadata": {},
     "output_type": "display_data"
    },
    {
     "data": {
      "text/plain": [
       "set()"
      ]
     },
     "metadata": {},
     "output_type": "display_data"
    }
   ],
   "source": [
    "display(area.difference(poblacion))\n",
    "display(area.difference(densidad))\n",
    "display(poblacion.difference(densidad))"
   ]
  },
  {
   "cell_type": "code",
   "execution_count": 204,
   "metadata": {},
   "outputs": [
    {
     "data": {
      "text/html": [
       "<div>\n",
       "<style scoped>\n",
       "    .dataframe tbody tr th:only-of-type {\n",
       "        vertical-align: middle;\n",
       "    }\n",
       "\n",
       "    .dataframe tbody tr th {\n",
       "        vertical-align: top;\n",
       "    }\n",
       "\n",
       "    .dataframe thead th {\n",
       "        text-align: right;\n",
       "    }\n",
       "</style>\n",
       "<table border=\"1\" class=\"dataframe\">\n",
       "  <thead>\n",
       "    <tr style=\"text-align: right;\">\n",
       "      <th></th>\n",
       "      <th>HY_id</th>\n",
       "      <th>IDEA_area</th>\n",
       "      <th>IDEA_poblacion</th>\n",
       "      <th>IDEA_densidad</th>\n",
       "    </tr>\n",
       "  </thead>\n",
       "  <tbody>\n",
       "    <tr>\n",
       "      <th>4138</th>\n",
       "      <td>6711144</td>\n",
       "      <td>27.02</td>\n",
       "      <td>NaN</td>\n",
       "      <td>NaN</td>\n",
       "    </tr>\n",
       "  </tbody>\n",
       "</table>\n",
       "</div>"
      ],
      "text/plain": [
       "        HY_id  IDEA_area  IDEA_poblacion  IDEA_densidad\n",
       "4138  6711144      27.02             NaN            NaN"
      ]
     },
     "execution_count": 204,
     "metadata": {},
     "output_type": "execute_result"
    }
   ],
   "source": [
    "df_modelar[df_modelar['HY_id'] == 6711144][['HY_id','IDEA_area', 'IDEA_poblacion', 'IDEA_densidad']]"
   ]
  },
  {
   "cell_type": "code",
   "execution_count": 205,
   "metadata": {},
   "outputs": [],
   "source": [
    "df_area = df_estimar[df_estimar['IDEA_area'].notnull()]\n",
    "df_poblacion = df_estimar[df_estimar['IDEA_poblacion'].notnull()]\n",
    "df_densidad = df_estimar[df_estimar['IDEA_densidad'].notnull()]"
   ]
  },
  {
   "cell_type": "code",
   "execution_count": 206,
   "metadata": {},
   "outputs": [
    {
     "data": {
      "text/plain": [
       "True"
      ]
     },
     "metadata": {},
     "output_type": "display_data"
    },
    {
     "data": {
      "text/plain": [
       "True"
      ]
     },
     "metadata": {},
     "output_type": "display_data"
    },
    {
     "data": {
      "text/plain": [
       "True"
      ]
     },
     "metadata": {},
     "output_type": "display_data"
    }
   ],
   "source": [
    "area = set(df_area['HY_id'].unique())\n",
    "poblacion = set(df_poblacion['HY_id'].unique())\n",
    "densidad = set(df_densidad['HY_id'].unique())\n",
    "display(area == poblacion)\n",
    "display(area == densidad)\n",
    "display(densidad == poblacion)"
   ]
  },
  {
   "cell_type": "code",
   "execution_count": 207,
   "metadata": {},
   "outputs": [
    {
     "data": {
      "text/plain": [
       "set()"
      ]
     },
     "metadata": {},
     "output_type": "display_data"
    },
    {
     "data": {
      "text/plain": [
       "set()"
      ]
     },
     "metadata": {},
     "output_type": "display_data"
    },
    {
     "data": {
      "text/plain": [
       "set()"
      ]
     },
     "metadata": {},
     "output_type": "display_data"
    }
   ],
   "source": [
    "display(area.difference(poblacion))\n",
    "display(area.difference(densidad))\n",
    "display(poblacion.difference(densidad))"
   ]
  },
  {
   "cell_type": "code",
   "execution_count": 208,
   "metadata": {},
   "outputs": [
    {
     "data": {
      "text/html": [
       "<div>\n",
       "<style scoped>\n",
       "    .dataframe tbody tr th:only-of-type {\n",
       "        vertical-align: middle;\n",
       "    }\n",
       "\n",
       "    .dataframe tbody tr th {\n",
       "        vertical-align: top;\n",
       "    }\n",
       "\n",
       "    .dataframe thead th {\n",
       "        text-align: right;\n",
       "    }\n",
       "</style>\n",
       "<table border=\"1\" class=\"dataframe\">\n",
       "  <thead>\n",
       "    <tr style=\"text-align: right;\">\n",
       "      <th></th>\n",
       "      <th>IDEA_area</th>\n",
       "      <th>IDEA_poblacion</th>\n",
       "      <th>IDEA_densidad</th>\n",
       "    </tr>\n",
       "  </thead>\n",
       "  <tbody>\n",
       "    <tr>\n",
       "      <th>0</th>\n",
       "      <td>670.87</td>\n",
       "      <td>13372.0</td>\n",
       "      <td>19.93</td>\n",
       "    </tr>\n",
       "    <tr>\n",
       "      <th>1</th>\n",
       "      <td>2216.24</td>\n",
       "      <td>1507.0</td>\n",
       "      <td>0.68</td>\n",
       "    </tr>\n",
       "    <tr>\n",
       "      <th>2</th>\n",
       "      <td>2040.53</td>\n",
       "      <td>5810.0</td>\n",
       "      <td>2.85</td>\n",
       "    </tr>\n",
       "    <tr>\n",
       "      <th>3</th>\n",
       "      <td>905.44</td>\n",
       "      <td>7004.0</td>\n",
       "      <td>7.74</td>\n",
       "    </tr>\n",
       "    <tr>\n",
       "      <th>4</th>\n",
       "      <td>905.44</td>\n",
       "      <td>7004.0</td>\n",
       "      <td>7.74</td>\n",
       "    </tr>\n",
       "    <tr>\n",
       "      <th>5</th>\n",
       "      <td>4116.56</td>\n",
       "      <td>1008.0</td>\n",
       "      <td>0.24</td>\n",
       "    </tr>\n",
       "    <tr>\n",
       "      <th>6</th>\n",
       "      <td>4116.56</td>\n",
       "      <td>1008.0</td>\n",
       "      <td>0.24</td>\n",
       "    </tr>\n",
       "    <tr>\n",
       "      <th>7</th>\n",
       "      <td>2656.34</td>\n",
       "      <td>13767.0</td>\n",
       "      <td>5.18</td>\n",
       "    </tr>\n",
       "    <tr>\n",
       "      <th>8</th>\n",
       "      <td>62.22</td>\n",
       "      <td>844.0</td>\n",
       "      <td>13.57</td>\n",
       "    </tr>\n",
       "    <tr>\n",
       "      <th>9</th>\n",
       "      <td>1659.27</td>\n",
       "      <td>1908.0</td>\n",
       "      <td>1.15</td>\n",
       "    </tr>\n",
       "    <tr>\n",
       "      <th>10</th>\n",
       "      <td>1659.27</td>\n",
       "      <td>1908.0</td>\n",
       "      <td>1.15</td>\n",
       "    </tr>\n",
       "    <tr>\n",
       "      <th>11</th>\n",
       "      <td>1659.27</td>\n",
       "      <td>1908.0</td>\n",
       "      <td>1.15</td>\n",
       "    </tr>\n",
       "    <tr>\n",
       "      <th>12</th>\n",
       "      <td>1659.27</td>\n",
       "      <td>1908.0</td>\n",
       "      <td>1.15</td>\n",
       "    </tr>\n",
       "    <tr>\n",
       "      <th>13</th>\n",
       "      <td>1659.27</td>\n",
       "      <td>1908.0</td>\n",
       "      <td>1.15</td>\n",
       "    </tr>\n",
       "    <tr>\n",
       "      <th>14</th>\n",
       "      <td>1584.15</td>\n",
       "      <td>1572.0</td>\n",
       "      <td>0.99</td>\n",
       "    </tr>\n",
       "    <tr>\n",
       "      <th>15</th>\n",
       "      <td>3219.56</td>\n",
       "      <td>5914.0</td>\n",
       "      <td>1.84</td>\n",
       "    </tr>\n",
       "    <tr>\n",
       "      <th>16</th>\n",
       "      <td>148.16</td>\n",
       "      <td>828.0</td>\n",
       "      <td>5.59</td>\n",
       "    </tr>\n",
       "    <tr>\n",
       "      <th>17</th>\n",
       "      <td>1363.70</td>\n",
       "      <td>1413.0</td>\n",
       "      <td>1.04</td>\n",
       "    </tr>\n",
       "    <tr>\n",
       "      <th>18</th>\n",
       "      <td>305.22</td>\n",
       "      <td>1003.0</td>\n",
       "      <td>3.29</td>\n",
       "    </tr>\n",
       "    <tr>\n",
       "      <th>19</th>\n",
       "      <td>728.29</td>\n",
       "      <td>1564.0</td>\n",
       "      <td>2.15</td>\n",
       "    </tr>\n",
       "    <tr>\n",
       "      <th>20</th>\n",
       "      <td>414.31</td>\n",
       "      <td>1372.0</td>\n",
       "      <td>3.31</td>\n",
       "    </tr>\n",
       "    <tr>\n",
       "      <th>21</th>\n",
       "      <td>6191.48</td>\n",
       "      <td>5928.0</td>\n",
       "      <td>0.96</td>\n",
       "    </tr>\n",
       "    <tr>\n",
       "      <th>22</th>\n",
       "      <td>1900.13</td>\n",
       "      <td>501.0</td>\n",
       "      <td>0.26</td>\n",
       "    </tr>\n",
       "    <tr>\n",
       "      <th>23</th>\n",
       "      <td>53.44</td>\n",
       "      <td>13140.0</td>\n",
       "      <td>245.86</td>\n",
       "    </tr>\n",
       "    <tr>\n",
       "      <th>24</th>\n",
       "      <td>53.44</td>\n",
       "      <td>13140.0</td>\n",
       "      <td>245.86</td>\n",
       "    </tr>\n",
       "    <tr>\n",
       "      <th>25</th>\n",
       "      <td>487.59</td>\n",
       "      <td>626.0</td>\n",
       "      <td>1.28</td>\n",
       "    </tr>\n",
       "    <tr>\n",
       "      <th>26</th>\n",
       "      <td>101.41</td>\n",
       "      <td>4622.0</td>\n",
       "      <td>45.58</td>\n",
       "    </tr>\n",
       "    <tr>\n",
       "      <th>27</th>\n",
       "      <td>1836.86</td>\n",
       "      <td>306.0</td>\n",
       "      <td>0.17</td>\n",
       "    </tr>\n",
       "    <tr>\n",
       "      <th>28</th>\n",
       "      <td>1836.86</td>\n",
       "      <td>306.0</td>\n",
       "      <td>0.17</td>\n",
       "    </tr>\n",
       "    <tr>\n",
       "      <th>29</th>\n",
       "      <td>989.50</td>\n",
       "      <td>10648.0</td>\n",
       "      <td>10.76</td>\n",
       "    </tr>\n",
       "    <tr>\n",
       "      <th>...</th>\n",
       "      <td>...</td>\n",
       "      <td>...</td>\n",
       "      <td>...</td>\n",
       "    </tr>\n",
       "    <tr>\n",
       "      <th>9928</th>\n",
       "      <td>72.15</td>\n",
       "      <td>22979.0</td>\n",
       "      <td>318.51</td>\n",
       "    </tr>\n",
       "    <tr>\n",
       "      <th>9929</th>\n",
       "      <td>6176.95</td>\n",
       "      <td>1563.0</td>\n",
       "      <td>0.25</td>\n",
       "    </tr>\n",
       "    <tr>\n",
       "      <th>9930</th>\n",
       "      <td>27.20</td>\n",
       "      <td>7632.0</td>\n",
       "      <td>280.54</td>\n",
       "    </tr>\n",
       "    <tr>\n",
       "      <th>9931</th>\n",
       "      <td>75.82</td>\n",
       "      <td>14.0</td>\n",
       "      <td>0.18</td>\n",
       "    </tr>\n",
       "    <tr>\n",
       "      <th>9932</th>\n",
       "      <td>2413.85</td>\n",
       "      <td>13198.0</td>\n",
       "      <td>5.47</td>\n",
       "    </tr>\n",
       "    <tr>\n",
       "      <th>9933</th>\n",
       "      <td>1016.07</td>\n",
       "      <td>11480.0</td>\n",
       "      <td>11.30</td>\n",
       "    </tr>\n",
       "    <tr>\n",
       "      <th>9934</th>\n",
       "      <td>3219.56</td>\n",
       "      <td>5914.0</td>\n",
       "      <td>1.84</td>\n",
       "    </tr>\n",
       "    <tr>\n",
       "      <th>9935</th>\n",
       "      <td>9099.67</td>\n",
       "      <td>759.0</td>\n",
       "      <td>0.08</td>\n",
       "    </tr>\n",
       "    <tr>\n",
       "      <th>9936</th>\n",
       "      <td>1131.83</td>\n",
       "      <td>4322.0</td>\n",
       "      <td>3.82</td>\n",
       "    </tr>\n",
       "    <tr>\n",
       "      <th>9937</th>\n",
       "      <td>4585.74</td>\n",
       "      <td>15419.0</td>\n",
       "      <td>3.36</td>\n",
       "    </tr>\n",
       "    <tr>\n",
       "      <th>9938</th>\n",
       "      <td>2030.87</td>\n",
       "      <td>1149.0</td>\n",
       "      <td>0.57</td>\n",
       "    </tr>\n",
       "    <tr>\n",
       "      <th>9939</th>\n",
       "      <td>4388.51</td>\n",
       "      <td>1404.0</td>\n",
       "      <td>0.32</td>\n",
       "    </tr>\n",
       "    <tr>\n",
       "      <th>9940</th>\n",
       "      <td>10434.82</td>\n",
       "      <td>35251.0</td>\n",
       "      <td>3.38</td>\n",
       "    </tr>\n",
       "    <tr>\n",
       "      <th>9941</th>\n",
       "      <td>4119.16</td>\n",
       "      <td>27505.0</td>\n",
       "      <td>6.68</td>\n",
       "    </tr>\n",
       "    <tr>\n",
       "      <th>9942</th>\n",
       "      <td>65.94</td>\n",
       "      <td>24971.0</td>\n",
       "      <td>378.70</td>\n",
       "    </tr>\n",
       "    <tr>\n",
       "      <th>9943</th>\n",
       "      <td>169.60</td>\n",
       "      <td>22154.0</td>\n",
       "      <td>130.63</td>\n",
       "    </tr>\n",
       "    <tr>\n",
       "      <th>9944</th>\n",
       "      <td>265.99</td>\n",
       "      <td>23456.0</td>\n",
       "      <td>88.18</td>\n",
       "    </tr>\n",
       "    <tr>\n",
       "      <th>9945</th>\n",
       "      <td>55.06</td>\n",
       "      <td>5989.0</td>\n",
       "      <td>108.76</td>\n",
       "    </tr>\n",
       "    <tr>\n",
       "      <th>9946</th>\n",
       "      <td>3082.14</td>\n",
       "      <td>6402.0</td>\n",
       "      <td>2.08</td>\n",
       "    </tr>\n",
       "    <tr>\n",
       "      <th>9947</th>\n",
       "      <td>2310.93</td>\n",
       "      <td>20891.0</td>\n",
       "      <td>9.04</td>\n",
       "    </tr>\n",
       "    <tr>\n",
       "      <th>9948</th>\n",
       "      <td>592.40</td>\n",
       "      <td>8804.0</td>\n",
       "      <td>14.86</td>\n",
       "    </tr>\n",
       "    <tr>\n",
       "      <th>9949</th>\n",
       "      <td>592.40</td>\n",
       "      <td>8804.0</td>\n",
       "      <td>14.86</td>\n",
       "    </tr>\n",
       "    <tr>\n",
       "      <th>9950</th>\n",
       "      <td>613.37</td>\n",
       "      <td>30715.0</td>\n",
       "      <td>50.08</td>\n",
       "    </tr>\n",
       "    <tr>\n",
       "      <th>9951</th>\n",
       "      <td>353.09</td>\n",
       "      <td>6424.0</td>\n",
       "      <td>18.19</td>\n",
       "    </tr>\n",
       "    <tr>\n",
       "      <th>9952</th>\n",
       "      <td>2080.57</td>\n",
       "      <td>5726.0</td>\n",
       "      <td>2.75</td>\n",
       "    </tr>\n",
       "    <tr>\n",
       "      <th>9953</th>\n",
       "      <td>2080.57</td>\n",
       "      <td>5726.0</td>\n",
       "      <td>2.75</td>\n",
       "    </tr>\n",
       "    <tr>\n",
       "      <th>9954</th>\n",
       "      <td>280.78</td>\n",
       "      <td>7020.0</td>\n",
       "      <td>25.00</td>\n",
       "    </tr>\n",
       "    <tr>\n",
       "      <th>9955</th>\n",
       "      <td>1124.87</td>\n",
       "      <td>228.0</td>\n",
       "      <td>0.20</td>\n",
       "    </tr>\n",
       "    <tr>\n",
       "      <th>9956</th>\n",
       "      <td>2080.57</td>\n",
       "      <td>5726.0</td>\n",
       "      <td>2.75</td>\n",
       "    </tr>\n",
       "    <tr>\n",
       "      <th>9957</th>\n",
       "      <td>2309.84</td>\n",
       "      <td>2035.0</td>\n",
       "      <td>0.88</td>\n",
       "    </tr>\n",
       "  </tbody>\n",
       "</table>\n",
       "<p>9958 rows × 3 columns</p>\n",
       "</div>"
      ],
      "text/plain": [
       "      IDEA_area  IDEA_poblacion  IDEA_densidad\n",
       "0        670.87         13372.0          19.93\n",
       "1       2216.24          1507.0           0.68\n",
       "2       2040.53          5810.0           2.85\n",
       "3        905.44          7004.0           7.74\n",
       "4        905.44          7004.0           7.74\n",
       "5       4116.56          1008.0           0.24\n",
       "6       4116.56          1008.0           0.24\n",
       "7       2656.34         13767.0           5.18\n",
       "8         62.22           844.0          13.57\n",
       "9       1659.27          1908.0           1.15\n",
       "10      1659.27          1908.0           1.15\n",
       "11      1659.27          1908.0           1.15\n",
       "12      1659.27          1908.0           1.15\n",
       "13      1659.27          1908.0           1.15\n",
       "14      1584.15          1572.0           0.99\n",
       "15      3219.56          5914.0           1.84\n",
       "16       148.16           828.0           5.59\n",
       "17      1363.70          1413.0           1.04\n",
       "18       305.22          1003.0           3.29\n",
       "19       728.29          1564.0           2.15\n",
       "20       414.31          1372.0           3.31\n",
       "21      6191.48          5928.0           0.96\n",
       "22      1900.13           501.0           0.26\n",
       "23        53.44         13140.0         245.86\n",
       "24        53.44         13140.0         245.86\n",
       "25       487.59           626.0           1.28\n",
       "26       101.41          4622.0          45.58\n",
       "27      1836.86           306.0           0.17\n",
       "28      1836.86           306.0           0.17\n",
       "29       989.50         10648.0          10.76\n",
       "...         ...             ...            ...\n",
       "9928      72.15         22979.0         318.51\n",
       "9929    6176.95          1563.0           0.25\n",
       "9930      27.20          7632.0         280.54\n",
       "9931      75.82            14.0           0.18\n",
       "9932    2413.85         13198.0           5.47\n",
       "9933    1016.07         11480.0          11.30\n",
       "9934    3219.56          5914.0           1.84\n",
       "9935    9099.67           759.0           0.08\n",
       "9936    1131.83          4322.0           3.82\n",
       "9937    4585.74         15419.0           3.36\n",
       "9938    2030.87          1149.0           0.57\n",
       "9939    4388.51          1404.0           0.32\n",
       "9940   10434.82         35251.0           3.38\n",
       "9941    4119.16         27505.0           6.68\n",
       "9942      65.94         24971.0         378.70\n",
       "9943     169.60         22154.0         130.63\n",
       "9944     265.99         23456.0          88.18\n",
       "9945      55.06          5989.0         108.76\n",
       "9946    3082.14          6402.0           2.08\n",
       "9947    2310.93         20891.0           9.04\n",
       "9948     592.40          8804.0          14.86\n",
       "9949     592.40          8804.0          14.86\n",
       "9950     613.37         30715.0          50.08\n",
       "9951     353.09          6424.0          18.19\n",
       "9952    2080.57          5726.0           2.75\n",
       "9953    2080.57          5726.0           2.75\n",
       "9954     280.78          7020.0          25.00\n",
       "9955    1124.87           228.0           0.20\n",
       "9956    2080.57          5726.0           2.75\n",
       "9957    2309.84          2035.0           0.88\n",
       "\n",
       "[9958 rows x 3 columns]"
      ]
     },
     "execution_count": 208,
     "metadata": {},
     "output_type": "execute_result"
    }
   ],
   "source": [
    "df_modelar[['IDEA_area', 'IDEA_poblacion', 'IDEA_densidad']]"
   ]
  },
  {
   "cell_type": "code",
   "execution_count": 209,
   "metadata": {},
   "outputs": [
    {
     "data": {
      "text/plain": [
       "0                                                  NaN\n",
       "1                                                  NaN\n",
       "2                                        VIVIENDA-PISO\n",
       "3                                                  NaN\n",
       "4                                                  NaN\n",
       "5    Se distribuye en recibidor, salón comedor, coc...\n",
       "6    Se distribuye en salón comedor, cocina, lavade...\n",
       "7                                                  NaN\n",
       "8                                                  NaN\n",
       "9                                                  NaN\n",
       "Name: HY_distribucion, dtype: object"
      ]
     },
     "execution_count": 209,
     "metadata": {},
     "output_type": "execute_result"
    }
   ],
   "source": [
    "df_modelar['HY_distribucion'].head(10)"
   ]
  },
  {
   "cell_type": "code",
   "execution_count": 210,
   "metadata": {},
   "outputs": [
    {
     "data": {
      "text/plain": [
       "0    Plaza de Garaje ubicada en la planta sótano de...\n",
       "1                                                  NaN\n",
       "2    El inmueble(piso) se encuentra situado en el d...\n",
       "3    Plaza de garaje situada en la planta semisótan...\n",
       "4    Plaza de garaje situada en la planta semisótan...\n",
       "5    Piso de dos dormitorios y baño en la tercera p...\n",
       "6    Piso de un dormitorio y baño en la tercera pla...\n",
       "7    Local comercial en bruto en la planta baja de ...\n",
       "8    Plaza de garaje situada en la Gran Vía de la C...\n",
       "9    Plaza de garaje situada en la Avenida Castelló...\n",
       "Name: HY_descripcion, dtype: object"
      ]
     },
     "execution_count": 210,
     "metadata": {},
     "output_type": "execute_result"
    }
   ],
   "source": [
    "df_modelar['HY_descripcion'].head(10)"
   ]
  },
  {
   "cell_type": "code",
   "execution_count": 211,
   "metadata": {},
   "outputs": [
    {
     "data": {
      "text/plain": [
       "count    9958.000000\n",
       "mean        0.270436\n",
       "std         0.444207\n",
       "min         0.000000\n",
       "25%         0.000000\n",
       "50%         0.000000\n",
       "75%         1.000000\n",
       "max         1.000000\n",
       "Name: HY_ascensor, dtype: float64"
      ]
     },
     "execution_count": 211,
     "metadata": {},
     "output_type": "execute_result"
    }
   ],
   "source": [
    "df_modelar['HY_ascensor'].describe()"
   ]
  }
 ],
 "metadata": {
  "kernelspec": {
   "display_name": "universityhack2019",
   "language": "python",
   "name": "universityhack2019"
  },
  "language_info": {
   "codemirror_mode": {
    "name": "ipython",
    "version": 3
   },
   "file_extension": ".py",
   "mimetype": "text/x-python",
   "name": "python",
   "nbconvert_exporter": "python",
   "pygments_lexer": "ipython3",
   "version": "3.6.8"
  }
 },
 "nbformat": 4,
 "nbformat_minor": 2
}
